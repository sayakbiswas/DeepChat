{
 "cells": [
  {
   "cell_type": "code",
   "execution_count": 29,
   "metadata": {
    "collapsed": false,
    "deletable": true,
    "editable": true
   },
   "outputs": [],
   "source": [
    "import numpy as np\n",
    "import nltk\n",
    "import os\n",
    "import ast\n",
    "import pickle\n",
    "import tensorflow as tf\n",
    "import random\n",
    "import configparser\n",
    "from tqdm import tqdm\n",
    "import string"
   ]
  },
  {
   "cell_type": "code",
   "execution_count": 2,
   "metadata": {
    "collapsed": false,
    "deletable": true,
    "editable": true
   },
   "outputs": [],
   "source": [
    "cwd = os.getcwd()\n",
    "#print(cwd)\n",
    "corpusDir = os.path.join(cwd, 'data/cornell')\n",
    "#print(corpusDir)"
   ]
  },
  {
   "cell_type": "code",
   "execution_count": 3,
   "metadata": {
    "collapsed": false,
    "deletable": true,
    "editable": true
   },
   "outputs": [],
   "source": [
    "lines = {}\n",
    "with open(os.path.join(corpusDir, 'movie_lines.txt'), 'r', encoding='iso-8859-1') as f:\n",
    "    for line in f:\n",
    "        #print(line)\n",
    "        fields = line.split(' +++$+++ ')\n",
    "        #print(fields)\n",
    "        obj = {}\n",
    "        obj['lineID'] = fields[0]\n",
    "        obj['characterID'] = fields[1]\n",
    "        obj['movieID'] = fields[2]\n",
    "        obj['characterName'] = fields[3]\n",
    "        obj['text'] = fields[4]\n",
    "        lines[fields[0]] = obj\n",
    "#print(lines)"
   ]
  },
  {
   "cell_type": "code",
   "execution_count": 4,
   "metadata": {
    "collapsed": false,
    "deletable": true,
    "editable": true
   },
   "outputs": [],
   "source": [
    "conversations = []\n",
    "with open(os.path.join(corpusDir, 'movie_conversations.txt'), 'r', encoding='iso-8859-1') as f:\n",
    "    for line in f:\n",
    "        #print(line)\n",
    "        fields = line.split(' +++$+++ ')\n",
    "        #print(fields)\n",
    "        obj = {}\n",
    "        obj['character1ID'] = fields[0]\n",
    "        obj['character2ID'] = fields[1]\n",
    "        obj['movieID'] = fields[2]\n",
    "        #obj['lineIDs'] = fields[3]\n",
    "        #print(obj)\n",
    "        lineIDs = ast.literal_eval(fields[3])\n",
    "        #print(lineIDs)\n",
    "        obj['lineIDs'] = lineIDs\n",
    "        #print(obj)\n",
    "        obj['lines'] = []\n",
    "        for lineID in lineIDs:\n",
    "            #print(lineID, \"--\", lines[lineID])\n",
    "            obj['lines'].append(lines[lineID])\n",
    "        conversations.append(obj)\n",
    "#print(conversations)"
   ]
  },
  {
   "cell_type": "code",
   "execution_count": 5,
   "metadata": {
    "collapsed": true,
    "deletable": true,
    "editable": true
   },
   "outputs": [],
   "source": [
    "wordIDMap = {}\n",
    "IDWordMap = {}\n",
    "unknownToken = -1\n",
    "trainingSamples = []\n",
    "goToken = -1\n",
    "eosToken = -1\n",
    "padToken = -1\n",
    "sentMaxLength = 10 #maximum length of an input or output sentence\n",
    "encoderMaxLength = sentMaxLength\n",
    "decoderMaxLength = sentMaxLength + 2"
   ]
  },
  {
   "cell_type": "code",
   "execution_count": 6,
   "metadata": {
    "collapsed": true,
    "deletable": true,
    "editable": true
   },
   "outputs": [],
   "source": [
    "def getWordID(word, shouldAddToDict=True):\n",
    "    word = word.lower()\n",
    "    wordID = wordIDMap.get(word, -1)\n",
    "    if wordID == -1:\n",
    "        if shouldAddToDict:\n",
    "            wordID = len(wordIDMap)\n",
    "            wordIDMap[word] = wordID\n",
    "            IDWordMap[wordID] = word\n",
    "        else:\n",
    "            wordID = unknownToken\n",
    "    return wordID"
   ]
  },
  {
   "cell_type": "code",
   "execution_count": 7,
   "metadata": {
    "collapsed": false,
    "deletable": true,
    "editable": true
   },
   "outputs": [],
   "source": [
    "def getWordsFromLine(line, isReply=False):\n",
    "    '''Returns the word IDs from the vovabulary'''\n",
    "    words = []\n",
    "    sentences = nltk.sent_tokenize(line)\n",
    "    #print(sentences)\n",
    "    # Since we are limited by a maxmimum length of sentences, we keep the last lines if the statement is a question/input\n",
    "    # and the first few lines if the statement is an answer/reply\n",
    "    for i in range(len(sentences)):\n",
    "        if not isReply:\n",
    "            i = len(sentences) - 1 - i\n",
    "        tokensFromCurrSent = nltk.word_tokenize(sentences[i])\n",
    "        #print(tokensFromCurrSent)\n",
    "        if len(words) + len(tokensFromCurrSent) > sentMaxLength:\n",
    "            break\n",
    "        else:\n",
    "            temp = []\n",
    "            for token in tokensFromCurrSent:\n",
    "                temp.append(getWordID(token))\n",
    "            if isReply:\n",
    "                words = words + temp\n",
    "            else:\n",
    "                words = temp + words # Append in the reverse order because we're considering the last few lines\n",
    "    return words"
   ]
  },
  {
   "cell_type": "code",
   "execution_count": 8,
   "metadata": {
    "collapsed": true,
    "deletable": true,
    "editable": true
   },
   "outputs": [],
   "source": [
    "padToken = getWordID('<pad>')\n",
    "unknownToken = getWordID('<unknown>')\n",
    "eosToken = getWordID('<eos>')\n",
    "goToken = getWordID('<go>')\n",
    "for conversation in conversations:\n",
    "    #print(conversation)\n",
    "    for i in range(len(conversation['lines']) - 1):\n",
    "        #print(conversation['lines'][i])\n",
    "        inputStatement = conversation['lines'][i]\n",
    "        #print(inputStatement)\n",
    "        replyStatement = conversation['lines'][i + 1]\n",
    "        inputWords = getWordsFromLine(inputStatement['text'])\n",
    "        replyWords = getWordsFromLine(replyStatement['text'], True)\n",
    "        #print(inputWords)\n",
    "        #print(replyWords)\n",
    "        \n",
    "        if inputWords and replyWords:\n",
    "            trainingSamples.append([inputWords, replyWords])\n",
    "#print(trainingSamples)"
   ]
  },
  {
   "cell_type": "code",
   "execution_count": 9,
   "metadata": {
    "collapsed": false,
    "deletable": true,
    "editable": true
   },
   "outputs": [
    {
     "name": "stdout",
     "output_type": "stream",
     "text": [
      "Saving dataset samples ...\n",
      "Done\n"
     ]
    }
   ],
   "source": [
    "print(\"Saving dataset samples ...\")\n",
    "with open(os.path.join(cwd, 'data/samples', 'sampleData.pkl'), 'wb') as f:\n",
    "    data = {\n",
    "        'wordIDMap': wordIDMap,\n",
    "        'IDWordMap': IDWordMap,\n",
    "        'trainingSamples': trainingSamples\n",
    "    }\n",
    "    pickle.dump(data, f, -1)\n",
    "print('Done')"
   ]
  },
  {
   "cell_type": "code",
   "execution_count": 10,
   "metadata": {
    "collapsed": true,
    "deletable": true,
    "editable": true
   },
   "outputs": [],
   "source": [
    "#Parameters\n",
    "globalStep = 85\n",
    "cellUnitCount = 512\n",
    "numOfLayers = 2\n",
    "embeddingSize = 64\n",
    "learningRate = 0.02\n",
    "batchSize = 256\n",
    "dropout = 0.9\n",
    "softmaxSamples = 0\n",
    "numOfEpochs = 2"
   ]
  },
  {
   "cell_type": "code",
   "execution_count": 11,
   "metadata": {
    "collapsed": true,
    "deletable": true,
    "editable": true
   },
   "outputs": [],
   "source": [
    "def make_lstm_cell():\n",
    "    encoderDecoderCell = tf.contrib.rnn.BasicLSTMCell(cellUnitCount)\n",
    "    encoderDecoderCell = tf.contrib.rnn.DropoutWrapper(encoderDecoderCell, input_keep_prob=1.0, output_keep_prob=dropout)\n",
    "    return encoderDecoderCell"
   ]
  },
  {
   "cell_type": "code",
   "execution_count": 12,
   "metadata": {
    "collapsed": false,
    "deletable": true,
    "editable": true
   },
   "outputs": [],
   "source": [
    "#Expand the list comprehension below\n",
    "encoderDecoderCell = tf.contrib.rnn.MultiRNNCell(\n",
    "    [make_lstm_cell() for _ in range(numOfLayers)],\n",
    ")"
   ]
  },
  {
   "cell_type": "code",
   "execution_count": 13,
   "metadata": {
    "collapsed": true,
    "deletable": true,
    "editable": true
   },
   "outputs": [],
   "source": [
    "with tf.name_scope('encoder'):\n",
    "    encoderInputs = [tf.placeholder(tf.int32, [None, ]) for _ in range(sentMaxLength)]\n",
    "with tf.name_scope('decoder'):\n",
    "    decoderInputs = [tf.placeholder(tf.int32, [None, ], name=\"inputs\") for _ in range(sentMaxLength + 2)]\n",
    "    decoderTargets = [tf.placeholder(tf.int32, [None, ], name=\"targets\") for _ in range(sentMaxLength + 2)]\n",
    "    decoderWeights = [tf.placeholder(tf.float32, [None, ], name=\"weights\") for _ in range(sentMaxLength + 2)]"
   ]
  },
  {
   "cell_type": "code",
   "execution_count": 14,
   "metadata": {
    "collapsed": false,
    "deletable": true,
    "editable": true
   },
   "outputs": [],
   "source": [
    "#Verify this - is different from the existing\n",
    "decoderOutput, state = tf.contrib.legacy_seq2seq.embedding_rnn_seq2seq(\n",
    "    encoderInputs,\n",
    "    decoderInputs,\n",
    "    encoderDecoderCell,\n",
    "    len(wordIDMap),\n",
    "    len(wordIDMap),\n",
    "    embeddingSize,\n",
    "    output_projection=None,\n",
    "    feed_previous=False\n",
    ")"
   ]
  },
  {
   "cell_type": "code",
   "execution_count": 15,
   "metadata": {
    "collapsed": false,
    "deletable": true,
    "editable": true
   },
   "outputs": [
    {
     "data": {
      "text/plain": [
       "<tf.Tensor 'loss:0' shape=() dtype=string>"
      ]
     },
     "execution_count": 15,
     "metadata": {},
     "output_type": "execute_result"
    }
   ],
   "source": [
    "lossFunc = tf.contrib.legacy_seq2seq.sequence_loss(\n",
    "    decoderOutput,\n",
    "    decoderTargets,\n",
    "    decoderWeights,\n",
    "    len(wordIDMap),\n",
    "    softmax_loss_function=None\n",
    ")\n",
    "tf.summary.scalar('loss', lossFunc)"
   ]
  },
  {
   "cell_type": "code",
   "execution_count": 16,
   "metadata": {
    "collapsed": false,
    "deletable": true,
    "editable": true
   },
   "outputs": [],
   "source": [
    "optimizer = tf.train.AdamOptimizer(\n",
    "    learning_rate=learningRate,\n",
    "    beta1=0.9,\n",
    "    beta2=0.999,\n",
    "    epsilon=1e-08\n",
    ")\n",
    "optimizationOperation = optimizer.minimize(lossFunc)"
   ]
  },
  {
   "cell_type": "code",
   "execution_count": 17,
   "metadata": {
    "collapsed": false,
    "deletable": true,
    "editable": true
   },
   "outputs": [],
   "source": [
    "writer = tf.summary.FileWriter('seq2seq')\n",
    "saver = tf.train.Saver(max_to_keep=200)"
   ]
  },
  {
   "cell_type": "code",
   "execution_count": 18,
   "metadata": {
    "collapsed": true,
    "deletable": true,
    "editable": true
   },
   "outputs": [],
   "source": [
    "sess = tf.Session(\n",
    "    config=tf.ConfigProto(\n",
    "        allow_soft_placement=True,\n",
    "        log_device_placement=False\n",
    "    )\n",
    ")\n",
    "sess.run(tf.global_variables_initializer())"
   ]
  },
  {
   "cell_type": "code",
   "execution_count": 19,
   "metadata": {
    "collapsed": false,
    "deletable": true,
    "editable": true,
    "scrolled": false
   },
   "outputs": [
    {
     "data": {
      "text/plain": [
       "'\\nif globalStep != 0:\\n    return\\n'"
      ]
     },
     "execution_count": 19,
     "metadata": {},
     "output_type": "execute_result"
    }
   ],
   "source": [
    "#Change variable scope name\n",
    "with tf.variable_scope(\"embedding_rnn_seq2seq/rnn/embedding_wrapper\", reuse=True):\n",
    "    in_embedding = tf.get_variable(\"embedding\")\n",
    "with tf.variable_scope(\"embedding_rnn_seq2seq/embedding_rnn_decoder\", reuse=True):\n",
    "    out_embedding = tf.get_variable(\"embedding\")\n",
    "\n",
    "embedding_vars = tf.get_collection_ref(tf.GraphKeys.TRAINABLE_VARIABLES)\n",
    "embedding_vars.remove(in_embedding)\n",
    "embedding_vars.remove(out_embedding)\n",
    "\n",
    "'''\n",
    "if globalStep != 0:\n",
    "    return\n",
    "'''"
   ]
  },
  {
   "cell_type": "code",
   "execution_count": 20,
   "metadata": {
    "collapsed": false,
    "deletable": true,
    "editable": true,
    "scrolled": true
   },
   "outputs": [],
   "source": [
    "with open(os.path.join(cwd, 'data/word2vec/GoogleNews-vectors-negative300.bin'), \"rb\", 0) as f:\n",
    "    header = f.readline().split()\n",
    "    #print(header)\n",
    "    vocabulary_size = int(header[0])\n",
    "    word_vector_size = int(header[1])\n",
    "    #print('{}, {}'.format(vocabulary_size, word_vector_size))\n",
    "    binary_length = np.dtype('float32').itemsize * word_vector_size\n",
    "    #print(binary_length)\n",
    "    initial_weights = np.random.uniform(-0.25, 0.25, (len(wordIDMap), word_vector_size))\n",
    "    #print(initial_weights)\n",
    "    for line in range(word_vector_size):\n",
    "        word = []\n",
    "        while True:\n",
    "            ch = f.read(1)\n",
    "            if ch == b' ':\n",
    "                word = b''.join(word).decode('utf-8')\n",
    "                break\n",
    "            if ch != b'\\n':\n",
    "                word.append(ch)\n",
    "        if word in wordIDMap:\n",
    "            initial_weights[wordIDMap[word]] = np.fromstring(f.read(binary_length), dtype='float32')\n",
    "        else:\n",
    "            f.read(binary_length)"
   ]
  },
  {
   "cell_type": "code",
   "execution_count": 21,
   "metadata": {
    "collapsed": false,
    "deletable": true,
    "editable": true
   },
   "outputs": [],
   "source": [
    "if embeddingSize < word_vector_size:\n",
    "    u, s, vt = np.linalg.svd(initial_weights, full_matrices=False)\n",
    "    S = np.zeros((word_vector_size, word_vector_size), dtype=complex)\n",
    "    S[:word_vector_size, :word_vector_size] = np.diag(s)\n",
    "    initial_weights = np.dot(u[:, :embeddingSize], S[:embeddingSize, :embeddingSize])"
   ]
  },
  {
   "cell_type": "code",
   "execution_count": 22,
   "metadata": {
    "collapsed": false,
    "deletable": true,
    "editable": true
   },
   "outputs": [
    {
     "name": "stderr",
     "output_type": "stream",
     "text": [
      "/home/sayak/tensorflow/lib/python3.5/site-packages/tensorflow/python/framework/tensor_util.py:355: ComplexWarning: Casting complex values to real discards the imaginary part\n",
      "  nparray = values.astype(dtype.as_numpy_dtype)\n"
     ]
    },
    {
     "data": {
      "text/plain": [
       "array([[ 0.15700914, -0.08681116,  0.06051316, ...,  0.23852083,\n",
       "        -0.16272853,  0.01847846],\n",
       "       [ 0.2192065 ,  0.24926345,  0.01855532, ..., -0.17493464,\n",
       "         0.03990545,  0.01945812],\n",
       "       [ 0.07839889, -0.28233093,  0.29489046, ..., -0.09639359,\n",
       "        -0.01002899,  0.09629203],\n",
       "       ..., \n",
       "       [-0.10829171,  0.24631451,  0.12743433, ...,  0.08865245,\n",
       "        -0.30084032, -0.26996762],\n",
       "       [ 0.03106795, -0.21142645,  0.02663859, ..., -0.07136977,\n",
       "         0.14422165,  0.14177349],\n",
       "       [ 0.14966476,  0.06425916,  0.28310198, ..., -0.0233477 ,\n",
       "        -0.12494318, -0.10956229]], dtype=float32)"
      ]
     },
     "execution_count": 22,
     "metadata": {},
     "output_type": "execute_result"
    }
   ],
   "source": [
    "sess.run(in_embedding.assign(initial_weights))\n",
    "sess.run(out_embedding.assign(initial_weights))"
   ]
  },
  {
   "cell_type": "code",
   "execution_count": 23,
   "metadata": {
    "collapsed": true,
    "deletable": true,
    "editable": true
   },
   "outputs": [],
   "source": [
    "def generateNextSample():\n",
    "    for i in range(0, len(trainingSamples), batchSize):\n",
    "        yield trainingSamples[i:min(i + batchSize, len(trainingSamples))]"
   ]
  },
  {
   "cell_type": "code",
   "execution_count": 24,
   "metadata": {
    "collapsed": true,
    "deletable": true,
    "editable": true
   },
   "outputs": [],
   "source": [
    "class Batch:\n",
    "    def __init__(self):\n",
    "        self.encoderSeqs = []\n",
    "        self.decoderSeqs = []\n",
    "        self.targetSeqs = []\n",
    "        self.weights = []"
   ]
  },
  {
   "cell_type": "code",
   "execution_count": 27,
   "metadata": {
    "collapsed": true,
    "deletable": true,
    "editable": true
   },
   "outputs": [],
   "source": [
    "def saveModel():\n",
    "    print('Saving model checkpoint...')\n",
    "    model_name = 'model_' + globalStep + '.ckpt'\n",
    "    if globalStep == 30:\n",
    "        model_name = 'model.ckpt'\n",
    "    saver.save(sess, os.path.join(cwd, 'saved_model', model_name))\n",
    "    print('Done')"
   ]
  },
  {
   "cell_type": "code",
   "execution_count": 28,
   "metadata": {
    "collapsed": true
   },
   "outputs": [],
   "source": [
    "def makeBatch(samples):\n",
    "    batch = Batch()\n",
    "    batchSize = len(samples)\n",
    "    for i in range(batchSize):\n",
    "        sample = samples[i]\n",
    "        #print(sample)\n",
    "        batch.encoderSeqs.append(list(reversed(sample[0])))\n",
    "        batch.decoderSeqs.append([goToken] + sample[1] + [eosToken])\n",
    "        batch.targetSeqs.append(batch.decoderSeqs[-1][1:])\n",
    "\n",
    "        batch.encoderSeqs[i] = [padToken] * (encoderMaxLength - len(batch.encoderSeqs[i])) + batch.encoderSeqs[i]\n",
    "        batch.weights.append([1.0] * len(batch.targetSeqs[i]) + [0.0] * (decoderMaxLength - len(batch.targetSeqs[i])))\n",
    "        batch.decoderSeqs[i] = batch.decoderSeqs[i] + [padToken] * (decoderMaxLength - len(batch.decoderSeqs[i]))\n",
    "        batch.targetSeqs[i] = batch.targetSeqs[i] + [padToken] * (decoderMaxLength - len(batch.targetSeqs[i]))\n",
    "\n",
    "    encoderSeqListT = []\n",
    "    for i in range(encoderMaxLength):\n",
    "        encoderSeqT = []\n",
    "        for j in range(batchSize):\n",
    "            encoderSeqT.append(batch.encoderSeqs[j][i])\n",
    "        encoderSeqListT.append(encoderSeqT)\n",
    "    batch.encoderSeqs = encoderSeqListT\n",
    "\n",
    "    decoderSeqListT = []\n",
    "    targetSeqListT = []\n",
    "    weightListT = []\n",
    "    for i in range(decoderMaxLength):\n",
    "        decoderSeqT = []\n",
    "        targetSeqT = []\n",
    "        weightT = []\n",
    "        for j in range(batchSize):\n",
    "            #print('j: {}, i:{}'.format(j,i))\n",
    "            decoderSeqT.append(batch.decoderSeqs[j][i])\n",
    "            targetSeqT.append(batch.targetSeqs[j][i])\n",
    "            weightT.append(batch.weights[j][i])\n",
    "        decoderSeqListT.append(decoderSeqT)\n",
    "        targetSeqListT.append(targetSeqT)\n",
    "        weightListT.append(weightT)\n",
    "    batch.decoderSeqs = decoderSeqListT\n",
    "    batch.targetSeqs = targetSeqListT\n",
    "    batch.weights = weightListT\n",
    "    return batch"
   ]
  },
  {
   "cell_type": "code",
   "execution_count": null,
   "metadata": {
    "collapsed": false,
    "deletable": true,
    "editable": true
   },
   "outputs": [
    {
     "name": "stdout",
     "output_type": "stream",
     "text": [
      "\n",
      "Epoch 1\n"
     ]
    },
    {
     "name": "stderr",
     "output_type": "stream",
     "text": [
      "Training:  10%|▉         | 67/690 [1:10:47<14:05:56, 81.47s/it]"
     ]
    }
   ],
   "source": [
    "# Training Loop\n",
    "completeSummary = tf.summary.merge_all()\n",
    "if globalStep == 0:\n",
    "    writer.add_graph(sess.graph)\n",
    "try:\n",
    "    for epoch in range(numOfEpochs):\n",
    "        print(\"\\nEpoch {}\".format(epoch+1))\n",
    "        random.shuffle(trainingSamples)\n",
    "        \n",
    "        batches = []\n",
    "        for samples in generateNextSample():\n",
    "            makeBatch(samples)\n",
    "            batches.append(batch)\n",
    "        \n",
    "        for batch in tqdm(batches, desc=\"Training\"):\n",
    "            feedDict = {}\n",
    "            ops = None\n",
    "            for i in range(encoderMaxLength):\n",
    "                feedDict[encoderInputs[i]] = batch.encoderSeqs[i]\n",
    "            for i in range(decoderMaxLength):\n",
    "                feedDict[decoderInputs[i]] = batch.decoderSeqs[i]\n",
    "                feedDict[decoderTargets[i]] = batch.targetSeqs[i]\n",
    "                feedDict[decoderWeights[i]] = batch.weights[i]\n",
    "            ops = (optimizationOperation, lossFunc)\n",
    "            assert len(ops) == 2\n",
    "            #print(feedDict)\n",
    "            _, loss, summary = sess.run(ops + (completeSummary,), feedDict)\n",
    "            writer.add_summary(summary, globalStep)\n",
    "            globalStep =+ 1\n",
    "            if globalStep % 100 == 0:\n",
    "                perplexity = math.exp(float(loss))\n",
    "                print(\"Step %d \" % (globalStep))\n",
    "                print(\"Loss %.2f\" % (loss))\n",
    "                print(\"Perplexity %.2f\" % (perplexity))\n",
    "            if globalStep % 10 == 0:\n",
    "                saveModel()\n",
    "except (KeyboardInterrupt, SystemExit):\n",
    "    print('Exiting')\n",
    "saveModel()\n",
    "sess.close()"
   ]
  },
  {
   "cell_type": "code",
   "execution_count": 32,
   "metadata": {
    "collapsed": false,
    "deletable": true,
    "editable": true
   },
   "outputs": [
    {
     "name": "stdout",
     "output_type": "stream",
     "text": [
      "Restoring model model.ckpt\n",
      "Welcome to DeepChat! I am Alex. You can ask me questions and ponder on the answers I provide.\n",
      "Type 'exit' to end the chat.\n",
      "You: Hello\n"
     ]
    },
    {
     "ename": "InvalidArgumentError",
     "evalue": "You must feed a value for placeholder tensor 'decoder/inputs_7' with dtype int32\n\t [[Node: decoder/inputs_7 = Placeholder[dtype=DT_INT32, shape=[], _device=\"/job:localhost/replica:0/task:0/cpu:0\"]()]]\n\nCaused by op 'decoder/inputs_7', defined at:\n  File \"/usr/lib/python3.5/runpy.py\", line 184, in _run_module_as_main\n    \"__main__\", mod_spec)\n  File \"/usr/lib/python3.5/runpy.py\", line 85, in _run_code\n    exec(code, run_globals)\n  File \"/home/sayak/tensorflow/lib/python3.5/site-packages/ipykernel/__main__.py\", line 3, in <module>\n    app.launch_new_instance()\n  File \"/home/sayak/tensorflow/lib/python3.5/site-packages/traitlets/config/application.py\", line 658, in launch_instance\n    app.start()\n  File \"/home/sayak/tensorflow/lib/python3.5/site-packages/ipykernel/kernelapp.py\", line 474, in start\n    ioloop.IOLoop.instance().start()\n  File \"/home/sayak/tensorflow/lib/python3.5/site-packages/zmq/eventloop/ioloop.py\", line 177, in start\n    super(ZMQIOLoop, self).start()\n  File \"/home/sayak/tensorflow/lib/python3.5/site-packages/tornado/ioloop.py\", line 887, in start\n    handler_func(fd_obj, events)\n  File \"/home/sayak/tensorflow/lib/python3.5/site-packages/tornado/stack_context.py\", line 275, in null_wrapper\n    return fn(*args, **kwargs)\n  File \"/home/sayak/tensorflow/lib/python3.5/site-packages/zmq/eventloop/zmqstream.py\", line 440, in _handle_events\n    self._handle_recv()\n  File \"/home/sayak/tensorflow/lib/python3.5/site-packages/zmq/eventloop/zmqstream.py\", line 472, in _handle_recv\n    self._run_callback(callback, msg)\n  File \"/home/sayak/tensorflow/lib/python3.5/site-packages/zmq/eventloop/zmqstream.py\", line 414, in _run_callback\n    callback(*args, **kwargs)\n  File \"/home/sayak/tensorflow/lib/python3.5/site-packages/tornado/stack_context.py\", line 275, in null_wrapper\n    return fn(*args, **kwargs)\n  File \"/home/sayak/tensorflow/lib/python3.5/site-packages/ipykernel/kernelbase.py\", line 276, in dispatcher\n    return self.dispatch_shell(stream, msg)\n  File \"/home/sayak/tensorflow/lib/python3.5/site-packages/ipykernel/kernelbase.py\", line 228, in dispatch_shell\n    handler(stream, idents, msg)\n  File \"/home/sayak/tensorflow/lib/python3.5/site-packages/ipykernel/kernelbase.py\", line 390, in execute_request\n    user_expressions, allow_stdin)\n  File \"/home/sayak/tensorflow/lib/python3.5/site-packages/ipykernel/ipkernel.py\", line 196, in do_execute\n    res = shell.run_cell(code, store_history=store_history, silent=silent)\n  File \"/home/sayak/tensorflow/lib/python3.5/site-packages/ipykernel/zmqshell.py\", line 501, in run_cell\n    return super(ZMQInteractiveShell, self).run_cell(*args, **kwargs)\n  File \"/home/sayak/tensorflow/lib/python3.5/site-packages/IPython/core/interactiveshell.py\", line 2717, in run_cell\n    interactivity=interactivity, compiler=compiler, result=result)\n  File \"/home/sayak/tensorflow/lib/python3.5/site-packages/IPython/core/interactiveshell.py\", line 2821, in run_ast_nodes\n    if self.run_code(code, result):\n  File \"/home/sayak/tensorflow/lib/python3.5/site-packages/IPython/core/interactiveshell.py\", line 2881, in run_code\n    exec(code_obj, self.user_global_ns, self.user_ns)\n  File \"<ipython-input-13-334e20f529c3>\", line 4, in <module>\n    decoderInputs = [tf.placeholder(tf.int32, [None, ], name=\"inputs\") for _ in range(sentMaxLength + 2)]\n  File \"<ipython-input-13-334e20f529c3>\", line 4, in <listcomp>\n    decoderInputs = [tf.placeholder(tf.int32, [None, ], name=\"inputs\") for _ in range(sentMaxLength + 2)]\n  File \"/home/sayak/tensorflow/lib/python3.5/site-packages/tensorflow/python/ops/array_ops.py\", line 1502, in placeholder\n    name=name)\n  File \"/home/sayak/tensorflow/lib/python3.5/site-packages/tensorflow/python/ops/gen_array_ops.py\", line 2149, in _placeholder\n    name=name)\n  File \"/home/sayak/tensorflow/lib/python3.5/site-packages/tensorflow/python/framework/op_def_library.py\", line 763, in apply_op\n    op_def=op_def)\n  File \"/home/sayak/tensorflow/lib/python3.5/site-packages/tensorflow/python/framework/ops.py\", line 2327, in create_op\n    original_op=self._default_original_op, op_def=op_def)\n  File \"/home/sayak/tensorflow/lib/python3.5/site-packages/tensorflow/python/framework/ops.py\", line 1226, in __init__\n    self._traceback = _extract_stack()\n\nInvalidArgumentError (see above for traceback): You must feed a value for placeholder tensor 'decoder/inputs_7' with dtype int32\n\t [[Node: decoder/inputs_7 = Placeholder[dtype=DT_INT32, shape=[], _device=\"/job:localhost/replica:0/task:0/cpu:0\"]()]]\n",
     "output_type": "error",
     "traceback": [
      "\u001b[0;31m---------------------------------------------------------------------------\u001b[0m",
      "\u001b[0;31mInvalidArgumentError\u001b[0m                      Traceback (most recent call last)",
      "\u001b[0;32m/home/sayak/tensorflow/lib/python3.5/site-packages/tensorflow/python/client/session.py\u001b[0m in \u001b[0;36m_do_call\u001b[0;34m(self, fn, *args)\u001b[0m\n\u001b[1;32m   1021\u001b[0m     \u001b[0;32mtry\u001b[0m\u001b[0;34m:\u001b[0m\u001b[0;34m\u001b[0m\u001b[0m\n\u001b[0;32m-> 1022\u001b[0;31m       \u001b[0;32mreturn\u001b[0m \u001b[0mfn\u001b[0m\u001b[0;34m(\u001b[0m\u001b[0;34m*\u001b[0m\u001b[0margs\u001b[0m\u001b[0;34m)\u001b[0m\u001b[0;34m\u001b[0m\u001b[0m\n\u001b[0m\u001b[1;32m   1023\u001b[0m     \u001b[0;32mexcept\u001b[0m \u001b[0merrors\u001b[0m\u001b[0;34m.\u001b[0m\u001b[0mOpError\u001b[0m \u001b[0;32mas\u001b[0m \u001b[0me\u001b[0m\u001b[0;34m:\u001b[0m\u001b[0;34m\u001b[0m\u001b[0m\n",
      "\u001b[0;32m/home/sayak/tensorflow/lib/python3.5/site-packages/tensorflow/python/client/session.py\u001b[0m in \u001b[0;36m_run_fn\u001b[0;34m(session, feed_dict, fetch_list, target_list, options, run_metadata)\u001b[0m\n\u001b[1;32m   1003\u001b[0m                                  \u001b[0mfeed_dict\u001b[0m\u001b[0;34m,\u001b[0m \u001b[0mfetch_list\u001b[0m\u001b[0;34m,\u001b[0m \u001b[0mtarget_list\u001b[0m\u001b[0;34m,\u001b[0m\u001b[0;34m\u001b[0m\u001b[0m\n\u001b[0;32m-> 1004\u001b[0;31m                                  status, run_metadata)\n\u001b[0m\u001b[1;32m   1005\u001b[0m \u001b[0;34m\u001b[0m\u001b[0m\n",
      "\u001b[0;32m/usr/lib/python3.5/contextlib.py\u001b[0m in \u001b[0;36m__exit__\u001b[0;34m(self, type, value, traceback)\u001b[0m\n\u001b[1;32m     65\u001b[0m             \u001b[0;32mtry\u001b[0m\u001b[0;34m:\u001b[0m\u001b[0;34m\u001b[0m\u001b[0m\n\u001b[0;32m---> 66\u001b[0;31m                 \u001b[0mnext\u001b[0m\u001b[0;34m(\u001b[0m\u001b[0mself\u001b[0m\u001b[0;34m.\u001b[0m\u001b[0mgen\u001b[0m\u001b[0;34m)\u001b[0m\u001b[0;34m\u001b[0m\u001b[0m\n\u001b[0m\u001b[1;32m     67\u001b[0m             \u001b[0;32mexcept\u001b[0m \u001b[0mStopIteration\u001b[0m\u001b[0;34m:\u001b[0m\u001b[0;34m\u001b[0m\u001b[0m\n",
      "\u001b[0;32m/home/sayak/tensorflow/lib/python3.5/site-packages/tensorflow/python/framework/errors_impl.py\u001b[0m in \u001b[0;36mraise_exception_on_not_ok_status\u001b[0;34m()\u001b[0m\n\u001b[1;32m    465\u001b[0m           \u001b[0mcompat\u001b[0m\u001b[0;34m.\u001b[0m\u001b[0mas_text\u001b[0m\u001b[0;34m(\u001b[0m\u001b[0mpywrap_tensorflow\u001b[0m\u001b[0;34m.\u001b[0m\u001b[0mTF_Message\u001b[0m\u001b[0;34m(\u001b[0m\u001b[0mstatus\u001b[0m\u001b[0;34m)\u001b[0m\u001b[0;34m)\u001b[0m\u001b[0;34m,\u001b[0m\u001b[0;34m\u001b[0m\u001b[0m\n\u001b[0;32m--> 466\u001b[0;31m           pywrap_tensorflow.TF_GetCode(status))\n\u001b[0m\u001b[1;32m    467\u001b[0m   \u001b[0;32mfinally\u001b[0m\u001b[0;34m:\u001b[0m\u001b[0;34m\u001b[0m\u001b[0m\n",
      "\u001b[0;31mInvalidArgumentError\u001b[0m: You must feed a value for placeholder tensor 'decoder/inputs_7' with dtype int32\n\t [[Node: decoder/inputs_7 = Placeholder[dtype=DT_INT32, shape=[], _device=\"/job:localhost/replica:0/task:0/cpu:0\"]()]]",
      "\nDuring handling of the above exception, another exception occurred:\n",
      "\u001b[0;31mInvalidArgumentError\u001b[0m                      Traceback (most recent call last)",
      "\u001b[0;32m<ipython-input-32-eda3d4135114>\u001b[0m in \u001b[0;36m<module>\u001b[0;34m()\u001b[0m\n\u001b[1;32m     28\u001b[0m         \u001b[0mfeedDict\u001b[0m\u001b[0;34m[\u001b[0m\u001b[0mdecoderInputs\u001b[0m\u001b[0;34m[\u001b[0m\u001b[0;36m0\u001b[0m\u001b[0;34m]\u001b[0m\u001b[0;34m]\u001b[0m \u001b[0;34m=\u001b[0m \u001b[0;34m[\u001b[0m\u001b[0mgoToken\u001b[0m\u001b[0;34m]\u001b[0m\u001b[0;34m\u001b[0m\u001b[0m\n\u001b[1;32m     29\u001b[0m         \u001b[0mops\u001b[0m \u001b[0;34m=\u001b[0m \u001b[0;34m(\u001b[0m\u001b[0mdecoderOutput\u001b[0m\u001b[0;34m,\u001b[0m\u001b[0;34m)\u001b[0m\u001b[0;34m\u001b[0m\u001b[0m\n\u001b[0;32m---> 30\u001b[0;31m         \u001b[0moutputs\u001b[0m \u001b[0;34m=\u001b[0m \u001b[0msess\u001b[0m\u001b[0;34m.\u001b[0m\u001b[0mrun\u001b[0m\u001b[0;34m(\u001b[0m\u001b[0mops\u001b[0m\u001b[0;34m[\u001b[0m\u001b[0;36m0\u001b[0m\u001b[0;34m]\u001b[0m\u001b[0;34m,\u001b[0m \u001b[0mfeedDict\u001b[0m\u001b[0;34m)\u001b[0m\u001b[0;34m\u001b[0m\u001b[0m\n\u001b[0m\u001b[1;32m     31\u001b[0m         \u001b[0moutputSequence\u001b[0m \u001b[0;34m=\u001b[0m \u001b[0;34m[\u001b[0m\u001b[0;34m]\u001b[0m\u001b[0;34m\u001b[0m\u001b[0m\n\u001b[1;32m     32\u001b[0m         \u001b[0;32mfor\u001b[0m \u001b[0moutput\u001b[0m \u001b[0;32min\u001b[0m \u001b[0moutputs\u001b[0m\u001b[0;34m:\u001b[0m\u001b[0;34m\u001b[0m\u001b[0m\n",
      "\u001b[0;32m/home/sayak/tensorflow/lib/python3.5/site-packages/tensorflow/python/client/session.py\u001b[0m in \u001b[0;36mrun\u001b[0;34m(self, fetches, feed_dict, options, run_metadata)\u001b[0m\n\u001b[1;32m    765\u001b[0m     \u001b[0;32mtry\u001b[0m\u001b[0;34m:\u001b[0m\u001b[0;34m\u001b[0m\u001b[0m\n\u001b[1;32m    766\u001b[0m       result = self._run(None, fetches, feed_dict, options_ptr,\n\u001b[0;32m--> 767\u001b[0;31m                          run_metadata_ptr)\n\u001b[0m\u001b[1;32m    768\u001b[0m       \u001b[0;32mif\u001b[0m \u001b[0mrun_metadata\u001b[0m\u001b[0;34m:\u001b[0m\u001b[0;34m\u001b[0m\u001b[0m\n\u001b[1;32m    769\u001b[0m         \u001b[0mproto_data\u001b[0m \u001b[0;34m=\u001b[0m \u001b[0mtf_session\u001b[0m\u001b[0;34m.\u001b[0m\u001b[0mTF_GetBuffer\u001b[0m\u001b[0;34m(\u001b[0m\u001b[0mrun_metadata_ptr\u001b[0m\u001b[0;34m)\u001b[0m\u001b[0;34m\u001b[0m\u001b[0m\n",
      "\u001b[0;32m/home/sayak/tensorflow/lib/python3.5/site-packages/tensorflow/python/client/session.py\u001b[0m in \u001b[0;36m_run\u001b[0;34m(self, handle, fetches, feed_dict, options, run_metadata)\u001b[0m\n\u001b[1;32m    963\u001b[0m     \u001b[0;32mif\u001b[0m \u001b[0mfinal_fetches\u001b[0m \u001b[0;32mor\u001b[0m \u001b[0mfinal_targets\u001b[0m\u001b[0;34m:\u001b[0m\u001b[0;34m\u001b[0m\u001b[0m\n\u001b[1;32m    964\u001b[0m       results = self._do_run(handle, final_targets, final_fetches,\n\u001b[0;32m--> 965\u001b[0;31m                              feed_dict_string, options, run_metadata)\n\u001b[0m\u001b[1;32m    966\u001b[0m     \u001b[0;32melse\u001b[0m\u001b[0;34m:\u001b[0m\u001b[0;34m\u001b[0m\u001b[0m\n\u001b[1;32m    967\u001b[0m       \u001b[0mresults\u001b[0m \u001b[0;34m=\u001b[0m \u001b[0;34m[\u001b[0m\u001b[0;34m]\u001b[0m\u001b[0;34m\u001b[0m\u001b[0m\n",
      "\u001b[0;32m/home/sayak/tensorflow/lib/python3.5/site-packages/tensorflow/python/client/session.py\u001b[0m in \u001b[0;36m_do_run\u001b[0;34m(self, handle, target_list, fetch_list, feed_dict, options, run_metadata)\u001b[0m\n\u001b[1;32m   1013\u001b[0m     \u001b[0;32mif\u001b[0m \u001b[0mhandle\u001b[0m \u001b[0;32mis\u001b[0m \u001b[0;32mNone\u001b[0m\u001b[0;34m:\u001b[0m\u001b[0;34m\u001b[0m\u001b[0m\n\u001b[1;32m   1014\u001b[0m       return self._do_call(_run_fn, self._session, feed_dict, fetch_list,\n\u001b[0;32m-> 1015\u001b[0;31m                            target_list, options, run_metadata)\n\u001b[0m\u001b[1;32m   1016\u001b[0m     \u001b[0;32melse\u001b[0m\u001b[0;34m:\u001b[0m\u001b[0;34m\u001b[0m\u001b[0m\n\u001b[1;32m   1017\u001b[0m       return self._do_call(_prun_fn, self._session, handle, feed_dict,\n",
      "\u001b[0;32m/home/sayak/tensorflow/lib/python3.5/site-packages/tensorflow/python/client/session.py\u001b[0m in \u001b[0;36m_do_call\u001b[0;34m(self, fn, *args)\u001b[0m\n\u001b[1;32m   1033\u001b[0m         \u001b[0;32mexcept\u001b[0m \u001b[0mKeyError\u001b[0m\u001b[0;34m:\u001b[0m\u001b[0;34m\u001b[0m\u001b[0m\n\u001b[1;32m   1034\u001b[0m           \u001b[0;32mpass\u001b[0m\u001b[0;34m\u001b[0m\u001b[0m\n\u001b[0;32m-> 1035\u001b[0;31m       \u001b[0;32mraise\u001b[0m \u001b[0mtype\u001b[0m\u001b[0;34m(\u001b[0m\u001b[0me\u001b[0m\u001b[0;34m)\u001b[0m\u001b[0;34m(\u001b[0m\u001b[0mnode_def\u001b[0m\u001b[0;34m,\u001b[0m \u001b[0mop\u001b[0m\u001b[0;34m,\u001b[0m \u001b[0mmessage\u001b[0m\u001b[0;34m)\u001b[0m\u001b[0;34m\u001b[0m\u001b[0m\n\u001b[0m\u001b[1;32m   1036\u001b[0m \u001b[0;34m\u001b[0m\u001b[0m\n\u001b[1;32m   1037\u001b[0m   \u001b[0;32mdef\u001b[0m \u001b[0m_extend_graph\u001b[0m\u001b[0;34m(\u001b[0m\u001b[0mself\u001b[0m\u001b[0;34m)\u001b[0m\u001b[0;34m:\u001b[0m\u001b[0;34m\u001b[0m\u001b[0m\n",
      "\u001b[0;31mInvalidArgumentError\u001b[0m: You must feed a value for placeholder tensor 'decoder/inputs_7' with dtype int32\n\t [[Node: decoder/inputs_7 = Placeholder[dtype=DT_INT32, shape=[], _device=\"/job:localhost/replica:0/task:0/cpu:0\"]()]]\n\nCaused by op 'decoder/inputs_7', defined at:\n  File \"/usr/lib/python3.5/runpy.py\", line 184, in _run_module_as_main\n    \"__main__\", mod_spec)\n  File \"/usr/lib/python3.5/runpy.py\", line 85, in _run_code\n    exec(code, run_globals)\n  File \"/home/sayak/tensorflow/lib/python3.5/site-packages/ipykernel/__main__.py\", line 3, in <module>\n    app.launch_new_instance()\n  File \"/home/sayak/tensorflow/lib/python3.5/site-packages/traitlets/config/application.py\", line 658, in launch_instance\n    app.start()\n  File \"/home/sayak/tensorflow/lib/python3.5/site-packages/ipykernel/kernelapp.py\", line 474, in start\n    ioloop.IOLoop.instance().start()\n  File \"/home/sayak/tensorflow/lib/python3.5/site-packages/zmq/eventloop/ioloop.py\", line 177, in start\n    super(ZMQIOLoop, self).start()\n  File \"/home/sayak/tensorflow/lib/python3.5/site-packages/tornado/ioloop.py\", line 887, in start\n    handler_func(fd_obj, events)\n  File \"/home/sayak/tensorflow/lib/python3.5/site-packages/tornado/stack_context.py\", line 275, in null_wrapper\n    return fn(*args, **kwargs)\n  File \"/home/sayak/tensorflow/lib/python3.5/site-packages/zmq/eventloop/zmqstream.py\", line 440, in _handle_events\n    self._handle_recv()\n  File \"/home/sayak/tensorflow/lib/python3.5/site-packages/zmq/eventloop/zmqstream.py\", line 472, in _handle_recv\n    self._run_callback(callback, msg)\n  File \"/home/sayak/tensorflow/lib/python3.5/site-packages/zmq/eventloop/zmqstream.py\", line 414, in _run_callback\n    callback(*args, **kwargs)\n  File \"/home/sayak/tensorflow/lib/python3.5/site-packages/tornado/stack_context.py\", line 275, in null_wrapper\n    return fn(*args, **kwargs)\n  File \"/home/sayak/tensorflow/lib/python3.5/site-packages/ipykernel/kernelbase.py\", line 276, in dispatcher\n    return self.dispatch_shell(stream, msg)\n  File \"/home/sayak/tensorflow/lib/python3.5/site-packages/ipykernel/kernelbase.py\", line 228, in dispatch_shell\n    handler(stream, idents, msg)\n  File \"/home/sayak/tensorflow/lib/python3.5/site-packages/ipykernel/kernelbase.py\", line 390, in execute_request\n    user_expressions, allow_stdin)\n  File \"/home/sayak/tensorflow/lib/python3.5/site-packages/ipykernel/ipkernel.py\", line 196, in do_execute\n    res = shell.run_cell(code, store_history=store_history, silent=silent)\n  File \"/home/sayak/tensorflow/lib/python3.5/site-packages/ipykernel/zmqshell.py\", line 501, in run_cell\n    return super(ZMQInteractiveShell, self).run_cell(*args, **kwargs)\n  File \"/home/sayak/tensorflow/lib/python3.5/site-packages/IPython/core/interactiveshell.py\", line 2717, in run_cell\n    interactivity=interactivity, compiler=compiler, result=result)\n  File \"/home/sayak/tensorflow/lib/python3.5/site-packages/IPython/core/interactiveshell.py\", line 2821, in run_ast_nodes\n    if self.run_code(code, result):\n  File \"/home/sayak/tensorflow/lib/python3.5/site-packages/IPython/core/interactiveshell.py\", line 2881, in run_code\n    exec(code_obj, self.user_global_ns, self.user_ns)\n  File \"<ipython-input-13-334e20f529c3>\", line 4, in <module>\n    decoderInputs = [tf.placeholder(tf.int32, [None, ], name=\"inputs\") for _ in range(sentMaxLength + 2)]\n  File \"<ipython-input-13-334e20f529c3>\", line 4, in <listcomp>\n    decoderInputs = [tf.placeholder(tf.int32, [None, ], name=\"inputs\") for _ in range(sentMaxLength + 2)]\n  File \"/home/sayak/tensorflow/lib/python3.5/site-packages/tensorflow/python/ops/array_ops.py\", line 1502, in placeholder\n    name=name)\n  File \"/home/sayak/tensorflow/lib/python3.5/site-packages/tensorflow/python/ops/gen_array_ops.py\", line 2149, in _placeholder\n    name=name)\n  File \"/home/sayak/tensorflow/lib/python3.5/site-packages/tensorflow/python/framework/op_def_library.py\", line 763, in apply_op\n    op_def=op_def)\n  File \"/home/sayak/tensorflow/lib/python3.5/site-packages/tensorflow/python/framework/ops.py\", line 2327, in create_op\n    original_op=self._default_original_op, op_def=op_def)\n  File \"/home/sayak/tensorflow/lib/python3.5/site-packages/tensorflow/python/framework/ops.py\", line 1226, in __init__\n    self._traceback = _extract_stack()\n\nInvalidArgumentError (see above for traceback): You must feed a value for placeholder tensor 'decoder/inputs_7' with dtype int32\n\t [[Node: decoder/inputs_7 = Placeholder[dtype=DT_INT32, shape=[], _device=\"/job:localhost/replica:0/task:0/cpu:0\"]()]]\n"
     ]
    }
   ],
   "source": [
    "saved_model_dir = 'model-pretrainedv2'\n",
    "model_name = 'model.ckpt'\n",
    "if os.path.exists(os.path.join(cwd, saved_model_dir, model_name)):\n",
    "    print('Restoring model {}'.format(model_name))\n",
    "    saver.restore(sess, os.path.join(cwd, 'model-pretrainedv2', 'model.ckpt'))\n",
    "    print('Welcome to DeepChat! I am Alex. You can ask me questions and ponder on the answers I provide.')\n",
    "    print('Type \\'exit\\' to end the chat.')\n",
    "    while True:\n",
    "        user_input = input('You: ')\n",
    "        if user_input == '':\n",
    "            print('Alex: Please say something! I don\\'t like silence!')\n",
    "        if user_input == 'exit':\n",
    "            break\n",
    "        inputSequence = []\n",
    "        tokens = nltk.word_tokenize(user_input)\n",
    "        if len(tokens) > sentMaxLength:\n",
    "            print('I didn\\'t understand! Please try a smaller sentence')\n",
    "            continue\n",
    "        wordIDs = []\n",
    "        for token in tokens:\n",
    "            wordIDs.append(getWordID(token, shouldAddToDict=False))\n",
    "        batch = makeBatch([[wordIDs,[]]])\n",
    "        inputSequence.extend(batch.encoderSeqs)\n",
    "        feedDict = {}\n",
    "        ops = None\n",
    "        for i in range(encoderMaxLength):\n",
    "            feedDict[encoderInputs[i]] = batch.encoderSeqs[i]\n",
    "        feedDict[decoderInputs[0]] = [goToken]\n",
    "        ops = (decoderOutput,)\n",
    "        outputs = sess.run(ops[0], feedDict)\n",
    "        outputSequence = []\n",
    "        for output in outputs:\n",
    "            outputSequence.append(np.argmax(output))\n",
    "        responseTokens = []\n",
    "        for wordID in outputSequence:\n",
    "            if wordID == eosToken:\n",
    "                break\n",
    "            elif wordID != padToken and wordID != goToken:\n",
    "                responseTokens.append(IDWordMap[wordID])\n",
    "        response = ''\n",
    "        for t in responseTokens:\n",
    "            if not t.startswith('\\'') and t not in string.punctuation:\n",
    "                response.join(' ' + t)\n",
    "            else:\n",
    "                response.join(t)\n",
    "        response = response.strip().capitalize()\n",
    "        print(response)\n",
    "        print()"
   ]
  }
 ],
 "metadata": {
  "kernelspec": {
   "display_name": "Python 3",
   "language": "python",
   "name": "python3"
  },
  "language_info": {
   "codemirror_mode": {
    "name": "ipython",
    "version": 3
   },
   "file_extension": ".py",
   "mimetype": "text/x-python",
   "name": "python",
   "nbconvert_exporter": "python",
   "pygments_lexer": "ipython3",
   "version": "3.5.2"
  }
 },
 "nbformat": 4,
 "nbformat_minor": 2
}
