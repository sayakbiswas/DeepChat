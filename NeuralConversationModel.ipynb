{
 "cells": [
  {
   "cell_type": "code",
   "execution_count": 1,
   "metadata": {
    "collapsed": false,
    "deletable": true,
    "editable": true
   },
   "outputs": [],
   "source": [
    "import numpy as np\n",
    "import nltk\n",
    "import os\n",
    "import ast\n",
    "import pickle\n",
    "import tensorflow as tf\n",
    "import random\n",
    "import configparser\n",
    "from tqdm import tqdm\n",
    "import string"
   ]
  },
  {
   "cell_type": "code",
   "execution_count": 2,
   "metadata": {
    "collapsed": false,
    "deletable": true,
    "editable": true
   },
   "outputs": [],
   "source": [
    "cwd = os.getcwd()\n",
    "#print(cwd)\n",
    "corpusDir = os.path.join(cwd, 'data/cornell')\n",
    "#print(corpusDir)"
   ]
  },
  {
   "cell_type": "code",
   "execution_count": 3,
   "metadata": {
    "collapsed": false,
    "deletable": true,
    "editable": true
   },
   "outputs": [],
   "source": [
    "lines = {}\n",
    "with open(os.path.join(corpusDir, 'movie_lines.txt'), 'r', encoding='iso-8859-1') as f:\n",
    "    for line in f:\n",
    "        #print(line)\n",
    "        fields = line.split(' +++$+++ ')\n",
    "        #print(fields)\n",
    "        obj = {}\n",
    "        obj['lineID'] = fields[0]\n",
    "        obj['characterID'] = fields[1]\n",
    "        obj['movieID'] = fields[2]\n",
    "        obj['characterName'] = fields[3]\n",
    "        obj['text'] = fields[4]\n",
    "        lines[fields[0]] = obj\n",
    "#print(lines)"
   ]
  },
  {
   "cell_type": "code",
   "execution_count": 4,
   "metadata": {
    "collapsed": false,
    "deletable": true,
    "editable": true
   },
   "outputs": [],
   "source": [
    "conversations = []\n",
    "with open(os.path.join(corpusDir, 'movie_conversations.txt'), 'r', encoding='iso-8859-1') as f:\n",
    "    for line in f:\n",
    "        #print(line)\n",
    "        fields = line.split(' +++$+++ ')\n",
    "        #print(fields)\n",
    "        obj = {}\n",
    "        obj['character1ID'] = fields[0]\n",
    "        obj['character2ID'] = fields[1]\n",
    "        obj['movieID'] = fields[2]\n",
    "        #obj['lineIDs'] = fields[3]\n",
    "        #print(obj)\n",
    "        lineIDs = ast.literal_eval(fields[3])\n",
    "        #print(lineIDs)\n",
    "        obj['lineIDs'] = lineIDs\n",
    "        #print(obj)\n",
    "        obj['lines'] = []\n",
    "        for lineID in lineIDs:\n",
    "            #print(lineID, \"--\", lines[lineID])\n",
    "            obj['lines'].append(lines[lineID])\n",
    "        conversations.append(obj)\n",
    "#print(conversations)"
   ]
  },
  {
   "cell_type": "code",
   "execution_count": 5,
   "metadata": {
    "collapsed": true,
    "deletable": true,
    "editable": true
   },
   "outputs": [],
   "source": [
    "wordIDMap = {}\n",
    "IDWordMap = {}\n",
    "unknownToken = -1\n",
    "trainingSamples = []\n",
    "goToken = -1\n",
    "eosToken = -1\n",
    "padToken = -1\n",
    "sentMaxLength = 10 #maximum length of an input or output sentence\n",
    "encoderMaxLength = sentMaxLength\n",
    "decoderMaxLength = sentMaxLength + 2"
   ]
  },
  {
   "cell_type": "code",
   "execution_count": 6,
   "metadata": {
    "collapsed": true,
    "deletable": true,
    "editable": true
   },
   "outputs": [],
   "source": [
    "def getWordID(word, shouldAddToDict=True):\n",
    "    word = word.lower()\n",
    "    wordID = wordIDMap.get(word, -1)\n",
    "    if wordID == -1:\n",
    "        if shouldAddToDict:\n",
    "            wordID = len(wordIDMap)\n",
    "            wordIDMap[word] = wordID\n",
    "            IDWordMap[wordID] = word\n",
    "        else:\n",
    "            wordID = unknownToken\n",
    "    return wordID"
   ]
  },
  {
   "cell_type": "code",
   "execution_count": 7,
   "metadata": {
    "collapsed": false,
    "deletable": true,
    "editable": true
   },
   "outputs": [],
   "source": [
    "def getWordsFromLine(line, isReply=False):\n",
    "    '''Returns the word IDs from the vovabulary'''\n",
    "    words = []\n",
    "    sentences = nltk.sent_tokenize(line)\n",
    "    #print(sentences)\n",
    "    # Since we are limited by a maxmimum length of sentences, we keep the last lines if the statement is a question/input\n",
    "    # and the first few lines if the statement is an answer/reply\n",
    "    for i in range(len(sentences)):\n",
    "        if not isReply:\n",
    "            i = len(sentences) - 1 - i\n",
    "        tokensFromCurrSent = nltk.word_tokenize(sentences[i])\n",
    "        #print(tokensFromCurrSent)\n",
    "        if len(words) + len(tokensFromCurrSent) > sentMaxLength:\n",
    "            break\n",
    "        else:\n",
    "            temp = []\n",
    "            for token in tokensFromCurrSent:\n",
    "                temp.append(getWordID(token))\n",
    "            if isReply:\n",
    "                words = words + temp\n",
    "            else:\n",
    "                words = temp + words # Append in the reverse order because we're considering the last few lines\n",
    "    return words"
   ]
  },
  {
   "cell_type": "code",
   "execution_count": 8,
   "metadata": {
    "collapsed": true,
    "deletable": true,
    "editable": true
   },
   "outputs": [],
   "source": [
    "padToken = getWordID('<pad>')\n",
    "unknownToken = getWordID('<unknown>')\n",
    "eosToken = getWordID('<eos>')\n",
    "goToken = getWordID('<go>')\n",
    "for conversation in conversations:\n",
    "    #print(conversation)\n",
    "    for i in range(len(conversation['lines']) - 1):\n",
    "        #print(conversation['lines'][i])\n",
    "        inputStatement = conversation['lines'][i]\n",
    "        #print(inputStatement)\n",
    "        replyStatement = conversation['lines'][i + 1]\n",
    "        inputWords = getWordsFromLine(inputStatement['text'])\n",
    "        replyWords = getWordsFromLine(replyStatement['text'], True)\n",
    "        #print(inputWords)\n",
    "        #print(replyWords)\n",
    "        \n",
    "        if inputWords and replyWords:\n",
    "            trainingSamples.append([inputWords, replyWords])\n",
    "#print(trainingSamples)"
   ]
  },
  {
   "cell_type": "code",
   "execution_count": 9,
   "metadata": {
    "collapsed": false,
    "deletable": true,
    "editable": true
   },
   "outputs": [
    {
     "name": "stdout",
     "output_type": "stream",
     "text": [
      "Saving dataset samples ...\n",
      "Done\n"
     ]
    }
   ],
   "source": [
    "print(\"Saving dataset samples ...\")\n",
    "with open(os.path.join(cwd, 'data/samples', 'sampleData.pkl'), 'wb') as f:\n",
    "    data = {\n",
    "        'wordIDMap': wordIDMap,\n",
    "        'IDWordMap': IDWordMap,\n",
    "        'trainingSamples': trainingSamples\n",
    "    }\n",
    "    pickle.dump(data, f, -1)\n",
    "print('Done')"
   ]
  },
  {
   "cell_type": "code",
   "execution_count": 33,
   "metadata": {
    "collapsed": true,
    "deletable": true,
    "editable": true
   },
   "outputs": [],
   "source": [
    "#Parameters\n",
    "globalStep = 0\n",
    "cellUnitCount = 512\n",
    "numOfLayers = 2\n",
    "embeddingSize = 64\n",
    "learningRate = 0.02\n",
    "batchSize = 256\n",
    "dropout = 0.9\n",
    "softmaxSamples = 0\n",
    "numOfEpochs = 2"
   ]
  },
  {
   "cell_type": "code",
   "execution_count": 34,
   "metadata": {
    "collapsed": true,
    "deletable": true,
    "editable": true
   },
   "outputs": [],
   "source": [
    "def make_lstm_cell():\n",
    "    encoderDecoderCell = tf.contrib.rnn.BasicLSTMCell(cellUnitCount)\n",
    "    encoderDecoderCell = tf.contrib.rnn.DropoutWrapper(encoderDecoderCell, input_keep_prob=1.0, output_keep_prob=dropout)\n",
    "    return encoderDecoderCell"
   ]
  },
  {
   "cell_type": "code",
   "execution_count": 35,
   "metadata": {
    "collapsed": false,
    "deletable": true,
    "editable": true
   },
   "outputs": [],
   "source": [
    "#Expand the list comprehension below\n",
    "encoderDecoderCell = tf.contrib.rnn.MultiRNNCell(\n",
    "    [make_lstm_cell() for _ in range(numOfLayers)],\n",
    ")"
   ]
  },
  {
   "cell_type": "code",
   "execution_count": 36,
   "metadata": {
    "collapsed": true,
    "deletable": true,
    "editable": true
   },
   "outputs": [],
   "source": [
    "with tf.name_scope('encoder'):\n",
    "    encoderInputs = [tf.placeholder(tf.int32, [None, ]) for _ in range(sentMaxLength)]\n",
    "with tf.name_scope('decoder'):\n",
    "    decoderInputs = [tf.placeholder(tf.int32, [None, ], name=\"inputs\") for _ in range(sentMaxLength + 2)]\n",
    "    decoderTargets = [tf.placeholder(tf.int32, [None, ], name=\"targets\") for _ in range(sentMaxLength + 2)]\n",
    "    decoderWeights = [tf.placeholder(tf.float32, [None, ], name=\"weights\") for _ in range(sentMaxLength + 2)]"
   ]
  },
  {
   "cell_type": "code",
   "execution_count": 37,
   "metadata": {
    "collapsed": false,
    "deletable": true,
    "editable": true
   },
   "outputs": [
    {
     "ename": "ValueError",
     "evalue": "Variable embedding_rnn_seq2seq/rnn/embedding_wrapper/embedding already exists, disallowed. Did you mean to set reuse=True in VarScope? Originally defined at:\n\n  File \"/home/sayak/tensorflow/lib/python3.5/site-packages/tensorflow/contrib/rnn/python/ops/core_rnn_cell_impl.py\", line 593, in __call__\n    dtype=data_type)\n  File \"/home/sayak/tensorflow/lib/python3.5/site-packages/tensorflow/contrib/rnn/python/ops/core_rnn.py\", line 184, in <lambda>\n    call_cell = lambda: cell(input_, state)\n  File \"/home/sayak/tensorflow/lib/python3.5/site-packages/tensorflow/contrib/rnn/python/ops/core_rnn.py\", line 197, in static_rnn\n    (output, state) = call_cell()\n",
     "output_type": "error",
     "traceback": [
      "\u001b[0;31m---------------------------------------------------------------------------\u001b[0m",
      "\u001b[0;31mValueError\u001b[0m                                Traceback (most recent call last)",
      "\u001b[0;32m<ipython-input-37-37993116358c>\u001b[0m in \u001b[0;36m<module>\u001b[0;34m()\u001b[0m\n\u001b[1;32m      8\u001b[0m     \u001b[0membeddingSize\u001b[0m\u001b[0;34m,\u001b[0m\u001b[0;34m\u001b[0m\u001b[0m\n\u001b[1;32m      9\u001b[0m     \u001b[0moutput_projection\u001b[0m\u001b[0;34m=\u001b[0m\u001b[0;32mNone\u001b[0m\u001b[0;34m,\u001b[0m\u001b[0;34m\u001b[0m\u001b[0m\n\u001b[0;32m---> 10\u001b[0;31m     \u001b[0mfeed_previous\u001b[0m\u001b[0;34m=\u001b[0m\u001b[0;32mTrue\u001b[0m\u001b[0;34m\u001b[0m\u001b[0m\n\u001b[0m\u001b[1;32m     11\u001b[0m )\n",
      "\u001b[0;32m/home/sayak/tensorflow/lib/python3.5/site-packages/tensorflow/contrib/legacy_seq2seq/python/ops/seq2seq.py\u001b[0m in \u001b[0;36membedding_rnn_seq2seq\u001b[0;34m(encoder_inputs, decoder_inputs, cell, num_encoder_symbols, num_decoder_symbols, embedding_size, output_projection, feed_previous, dtype, scope)\u001b[0m\n\u001b[1;32m    358\u001b[0m         embedding_size=embedding_size)\n\u001b[1;32m    359\u001b[0m     _, encoder_state = core_rnn.static_rnn(\n\u001b[0;32m--> 360\u001b[0;31m         encoder_cell, encoder_inputs, dtype=dtype)\n\u001b[0m\u001b[1;32m    361\u001b[0m \u001b[0;34m\u001b[0m\u001b[0m\n\u001b[1;32m    362\u001b[0m     \u001b[0;31m# Decoder.\u001b[0m\u001b[0;34m\u001b[0m\u001b[0;34m\u001b[0m\u001b[0m\n",
      "\u001b[0;32m/home/sayak/tensorflow/lib/python3.5/site-packages/tensorflow/contrib/rnn/python/ops/core_rnn.py\u001b[0m in \u001b[0;36mstatic_rnn\u001b[0;34m(cell, inputs, initial_state, dtype, sequence_length, scope)\u001b[0m\n\u001b[1;32m    195\u001b[0m             state_size=cell.state_size)\n\u001b[1;32m    196\u001b[0m       \u001b[0;32melse\u001b[0m\u001b[0;34m:\u001b[0m\u001b[0;34m\u001b[0m\u001b[0m\n\u001b[0;32m--> 197\u001b[0;31m         \u001b[0;34m(\u001b[0m\u001b[0moutput\u001b[0m\u001b[0;34m,\u001b[0m \u001b[0mstate\u001b[0m\u001b[0;34m)\u001b[0m \u001b[0;34m=\u001b[0m \u001b[0mcall_cell\u001b[0m\u001b[0;34m(\u001b[0m\u001b[0;34m)\u001b[0m\u001b[0;34m\u001b[0m\u001b[0m\n\u001b[0m\u001b[1;32m    198\u001b[0m \u001b[0;34m\u001b[0m\u001b[0m\n\u001b[1;32m    199\u001b[0m       \u001b[0moutputs\u001b[0m\u001b[0;34m.\u001b[0m\u001b[0mappend\u001b[0m\u001b[0;34m(\u001b[0m\u001b[0moutput\u001b[0m\u001b[0;34m)\u001b[0m\u001b[0;34m\u001b[0m\u001b[0m\n",
      "\u001b[0;32m/home/sayak/tensorflow/lib/python3.5/site-packages/tensorflow/contrib/rnn/python/ops/core_rnn.py\u001b[0m in \u001b[0;36m<lambda>\u001b[0;34m()\u001b[0m\n\u001b[1;32m    182\u001b[0m       \u001b[0;32mif\u001b[0m \u001b[0mtime\u001b[0m \u001b[0;34m>\u001b[0m \u001b[0;36m0\u001b[0m\u001b[0;34m:\u001b[0m \u001b[0mvarscope\u001b[0m\u001b[0;34m.\u001b[0m\u001b[0mreuse_variables\u001b[0m\u001b[0;34m(\u001b[0m\u001b[0;34m)\u001b[0m\u001b[0;34m\u001b[0m\u001b[0m\n\u001b[1;32m    183\u001b[0m       \u001b[0;31m# pylint: disable=cell-var-from-loop\u001b[0m\u001b[0;34m\u001b[0m\u001b[0;34m\u001b[0m\u001b[0m\n\u001b[0;32m--> 184\u001b[0;31m       \u001b[0mcall_cell\u001b[0m \u001b[0;34m=\u001b[0m \u001b[0;32mlambda\u001b[0m\u001b[0;34m:\u001b[0m \u001b[0mcell\u001b[0m\u001b[0;34m(\u001b[0m\u001b[0minput_\u001b[0m\u001b[0;34m,\u001b[0m \u001b[0mstate\u001b[0m\u001b[0;34m)\u001b[0m\u001b[0;34m\u001b[0m\u001b[0m\n\u001b[0m\u001b[1;32m    185\u001b[0m       \u001b[0;31m# pylint: enable=cell-var-from-loop\u001b[0m\u001b[0;34m\u001b[0m\u001b[0;34m\u001b[0m\u001b[0m\n\u001b[1;32m    186\u001b[0m       \u001b[0;32mif\u001b[0m \u001b[0msequence_length\u001b[0m \u001b[0;32mis\u001b[0m \u001b[0;32mnot\u001b[0m \u001b[0;32mNone\u001b[0m\u001b[0;34m:\u001b[0m\u001b[0;34m\u001b[0m\u001b[0m\n",
      "\u001b[0;32m/home/sayak/tensorflow/lib/python3.5/site-packages/tensorflow/contrib/rnn/python/ops/core_rnn_cell_impl.py\u001b[0m in \u001b[0;36m__call__\u001b[0;34m(self, inputs, state, scope)\u001b[0m\n\u001b[1;32m    591\u001b[0m             \u001b[0;34m\"embedding\"\u001b[0m\u001b[0;34m,\u001b[0m \u001b[0;34m[\u001b[0m\u001b[0mself\u001b[0m\u001b[0;34m.\u001b[0m\u001b[0m_embedding_classes\u001b[0m\u001b[0;34m,\u001b[0m \u001b[0mself\u001b[0m\u001b[0;34m.\u001b[0m\u001b[0m_embedding_size\u001b[0m\u001b[0;34m]\u001b[0m\u001b[0;34m,\u001b[0m\u001b[0;34m\u001b[0m\u001b[0m\n\u001b[1;32m    592\u001b[0m             \u001b[0minitializer\u001b[0m\u001b[0;34m=\u001b[0m\u001b[0minitializer\u001b[0m\u001b[0;34m,\u001b[0m\u001b[0;34m\u001b[0m\u001b[0m\n\u001b[0;32m--> 593\u001b[0;31m             dtype=data_type)\n\u001b[0m\u001b[1;32m    594\u001b[0m         embedded = embedding_ops.embedding_lookup(\n\u001b[1;32m    595\u001b[0m             embedding, array_ops.reshape(inputs, [-1]))\n",
      "\u001b[0;32m/home/sayak/tensorflow/lib/python3.5/site-packages/tensorflow/python/ops/variable_scope.py\u001b[0m in \u001b[0;36mget_variable\u001b[0;34m(name, shape, dtype, initializer, regularizer, trainable, collections, caching_device, partitioner, validate_shape, custom_getter)\u001b[0m\n\u001b[1;32m    986\u001b[0m       \u001b[0mcollections\u001b[0m\u001b[0;34m=\u001b[0m\u001b[0mcollections\u001b[0m\u001b[0;34m,\u001b[0m \u001b[0mcaching_device\u001b[0m\u001b[0;34m=\u001b[0m\u001b[0mcaching_device\u001b[0m\u001b[0;34m,\u001b[0m\u001b[0;34m\u001b[0m\u001b[0m\n\u001b[1;32m    987\u001b[0m       \u001b[0mpartitioner\u001b[0m\u001b[0;34m=\u001b[0m\u001b[0mpartitioner\u001b[0m\u001b[0;34m,\u001b[0m \u001b[0mvalidate_shape\u001b[0m\u001b[0;34m=\u001b[0m\u001b[0mvalidate_shape\u001b[0m\u001b[0;34m,\u001b[0m\u001b[0;34m\u001b[0m\u001b[0m\n\u001b[0;32m--> 988\u001b[0;31m       custom_getter=custom_getter)\n\u001b[0m\u001b[1;32m    989\u001b[0m get_variable_or_local_docstring = (\n\u001b[1;32m    990\u001b[0m     \"\"\"%s\n",
      "\u001b[0;32m/home/sayak/tensorflow/lib/python3.5/site-packages/tensorflow/python/ops/variable_scope.py\u001b[0m in \u001b[0;36mget_variable\u001b[0;34m(self, var_store, name, shape, dtype, initializer, regularizer, trainable, collections, caching_device, partitioner, validate_shape, custom_getter)\u001b[0m\n\u001b[1;32m    888\u001b[0m           \u001b[0mcollections\u001b[0m\u001b[0;34m=\u001b[0m\u001b[0mcollections\u001b[0m\u001b[0;34m,\u001b[0m \u001b[0mcaching_device\u001b[0m\u001b[0;34m=\u001b[0m\u001b[0mcaching_device\u001b[0m\u001b[0;34m,\u001b[0m\u001b[0;34m\u001b[0m\u001b[0m\n\u001b[1;32m    889\u001b[0m           \u001b[0mpartitioner\u001b[0m\u001b[0;34m=\u001b[0m\u001b[0mpartitioner\u001b[0m\u001b[0;34m,\u001b[0m \u001b[0mvalidate_shape\u001b[0m\u001b[0;34m=\u001b[0m\u001b[0mvalidate_shape\u001b[0m\u001b[0;34m,\u001b[0m\u001b[0;34m\u001b[0m\u001b[0m\n\u001b[0;32m--> 890\u001b[0;31m           custom_getter=custom_getter)\n\u001b[0m\u001b[1;32m    891\u001b[0m \u001b[0;34m\u001b[0m\u001b[0m\n\u001b[1;32m    892\u001b[0m   def _get_partitioned_variable(self,\n",
      "\u001b[0;32m/home/sayak/tensorflow/lib/python3.5/site-packages/tensorflow/python/ops/variable_scope.py\u001b[0m in \u001b[0;36mget_variable\u001b[0;34m(self, name, shape, dtype, initializer, regularizer, reuse, trainable, collections, caching_device, partitioner, validate_shape, custom_getter)\u001b[0m\n\u001b[1;32m    346\u001b[0m           \u001b[0mreuse\u001b[0m\u001b[0;34m=\u001b[0m\u001b[0mreuse\u001b[0m\u001b[0;34m,\u001b[0m \u001b[0mtrainable\u001b[0m\u001b[0;34m=\u001b[0m\u001b[0mtrainable\u001b[0m\u001b[0;34m,\u001b[0m \u001b[0mcollections\u001b[0m\u001b[0;34m=\u001b[0m\u001b[0mcollections\u001b[0m\u001b[0;34m,\u001b[0m\u001b[0;34m\u001b[0m\u001b[0m\n\u001b[1;32m    347\u001b[0m           \u001b[0mcaching_device\u001b[0m\u001b[0;34m=\u001b[0m\u001b[0mcaching_device\u001b[0m\u001b[0;34m,\u001b[0m \u001b[0mpartitioner\u001b[0m\u001b[0;34m=\u001b[0m\u001b[0mpartitioner\u001b[0m\u001b[0;34m,\u001b[0m\u001b[0;34m\u001b[0m\u001b[0m\n\u001b[0;32m--> 348\u001b[0;31m           validate_shape=validate_shape)\n\u001b[0m\u001b[1;32m    349\u001b[0m \u001b[0;34m\u001b[0m\u001b[0m\n\u001b[1;32m    350\u001b[0m   def _get_partitioned_variable(\n",
      "\u001b[0;32m/home/sayak/tensorflow/lib/python3.5/site-packages/tensorflow/python/ops/variable_scope.py\u001b[0m in \u001b[0;36m_true_getter\u001b[0;34m(name, shape, dtype, initializer, regularizer, reuse, trainable, collections, caching_device, partitioner, validate_shape)\u001b[0m\n\u001b[1;32m    331\u001b[0m           \u001b[0minitializer\u001b[0m\u001b[0;34m=\u001b[0m\u001b[0minitializer\u001b[0m\u001b[0;34m,\u001b[0m \u001b[0mregularizer\u001b[0m\u001b[0;34m=\u001b[0m\u001b[0mregularizer\u001b[0m\u001b[0;34m,\u001b[0m \u001b[0mreuse\u001b[0m\u001b[0;34m=\u001b[0m\u001b[0mreuse\u001b[0m\u001b[0;34m,\u001b[0m\u001b[0;34m\u001b[0m\u001b[0m\n\u001b[1;32m    332\u001b[0m           \u001b[0mtrainable\u001b[0m\u001b[0;34m=\u001b[0m\u001b[0mtrainable\u001b[0m\u001b[0;34m,\u001b[0m \u001b[0mcollections\u001b[0m\u001b[0;34m=\u001b[0m\u001b[0mcollections\u001b[0m\u001b[0;34m,\u001b[0m\u001b[0;34m\u001b[0m\u001b[0m\n\u001b[0;32m--> 333\u001b[0;31m           caching_device=caching_device, validate_shape=validate_shape)\n\u001b[0m\u001b[1;32m    334\u001b[0m \u001b[0;34m\u001b[0m\u001b[0m\n\u001b[1;32m    335\u001b[0m     \u001b[0;32mif\u001b[0m \u001b[0mcustom_getter\u001b[0m \u001b[0;32mis\u001b[0m \u001b[0;32mnot\u001b[0m \u001b[0;32mNone\u001b[0m\u001b[0;34m:\u001b[0m\u001b[0;34m\u001b[0m\u001b[0m\n",
      "\u001b[0;32m/home/sayak/tensorflow/lib/python3.5/site-packages/tensorflow/python/ops/variable_scope.py\u001b[0m in \u001b[0;36m_get_single_variable\u001b[0;34m(self, name, shape, dtype, initializer, regularizer, partition_info, reuse, trainable, collections, caching_device, validate_shape)\u001b[0m\n\u001b[1;32m    637\u001b[0m                          \u001b[0;34m\" Did you mean to set reuse=True in VarScope? \"\u001b[0m\u001b[0;34m\u001b[0m\u001b[0m\n\u001b[1;32m    638\u001b[0m                          \"Originally defined at:\\n\\n%s\" % (\n\u001b[0;32m--> 639\u001b[0;31m                              name, \"\".join(traceback.format_list(tb))))\n\u001b[0m\u001b[1;32m    640\u001b[0m       \u001b[0mfound_var\u001b[0m \u001b[0;34m=\u001b[0m \u001b[0mself\u001b[0m\u001b[0;34m.\u001b[0m\u001b[0m_vars\u001b[0m\u001b[0;34m[\u001b[0m\u001b[0mname\u001b[0m\u001b[0;34m]\u001b[0m\u001b[0;34m\u001b[0m\u001b[0m\n\u001b[1;32m    641\u001b[0m       \u001b[0;32mif\u001b[0m \u001b[0;32mnot\u001b[0m \u001b[0mshape\u001b[0m\u001b[0;34m.\u001b[0m\u001b[0mis_compatible_with\u001b[0m\u001b[0;34m(\u001b[0m\u001b[0mfound_var\u001b[0m\u001b[0;34m.\u001b[0m\u001b[0mget_shape\u001b[0m\u001b[0;34m(\u001b[0m\u001b[0;34m)\u001b[0m\u001b[0;34m)\u001b[0m\u001b[0;34m:\u001b[0m\u001b[0;34m\u001b[0m\u001b[0m\n",
      "\u001b[0;31mValueError\u001b[0m: Variable embedding_rnn_seq2seq/rnn/embedding_wrapper/embedding already exists, disallowed. Did you mean to set reuse=True in VarScope? Originally defined at:\n\n  File \"/home/sayak/tensorflow/lib/python3.5/site-packages/tensorflow/contrib/rnn/python/ops/core_rnn_cell_impl.py\", line 593, in __call__\n    dtype=data_type)\n  File \"/home/sayak/tensorflow/lib/python3.5/site-packages/tensorflow/contrib/rnn/python/ops/core_rnn.py\", line 184, in <lambda>\n    call_cell = lambda: cell(input_, state)\n  File \"/home/sayak/tensorflow/lib/python3.5/site-packages/tensorflow/contrib/rnn/python/ops/core_rnn.py\", line 197, in static_rnn\n    (output, state) = call_cell()\n"
     ]
    }
   ],
   "source": [
    "#Verify this - is different from the existing\n",
    "decoderOutput, state = tf.contrib.legacy_seq2seq.embedding_rnn_seq2seq(\n",
    "    encoderInputs,\n",
    "    decoderInputs,\n",
    "    encoderDecoderCell,\n",
    "    len(wordIDMap),\n",
    "    len(wordIDMap),\n",
    "    embeddingSize,\n",
    "    output_projection=None,\n",
    "    feed_previous=True\n",
    ")"
   ]
  },
  {
   "cell_type": "code",
   "execution_count": 38,
   "metadata": {
    "collapsed": false,
    "deletable": true,
    "editable": true
   },
   "outputs": [
    {
     "data": {
      "text/plain": [
       "<tf.Tensor 'loss_1:0' shape=() dtype=string>"
      ]
     },
     "execution_count": 38,
     "metadata": {},
     "output_type": "execute_result"
    }
   ],
   "source": [
    "lossFunc = tf.contrib.legacy_seq2seq.sequence_loss(\n",
    "    decoderOutput,\n",
    "    decoderTargets,\n",
    "    decoderWeights,\n",
    "    len(wordIDMap),\n",
    "    softmax_loss_function=None\n",
    ")\n",
    "tf.summary.scalar('loss', lossFunc)"
   ]
  },
  {
   "cell_type": "code",
   "execution_count": 39,
   "metadata": {
    "collapsed": false,
    "deletable": true,
    "editable": true
   },
   "outputs": [
    {
     "ename": "ValueError",
     "evalue": "Variable embedding_rnn_seq2seq/rnn/multi_rnn_cell/cell_0/basic_lstm_cell/weights/Adam/ already exists, disallowed. Did you mean to set reuse=True in VarScope? Originally defined at:\n\n  File \"<ipython-input-16-48bb81c77adb>\", line 7, in <module>\n    optimizationOperation = optimizer.minimize(lossFunc)\n  File \"/home/sayak/tensorflow/lib/python3.5/site-packages/IPython/core/interactiveshell.py\", line 2881, in run_code\n    exec(code_obj, self.user_global_ns, self.user_ns)\n  File \"/home/sayak/tensorflow/lib/python3.5/site-packages/IPython/core/interactiveshell.py\", line 2821, in run_ast_nodes\n    if self.run_code(code, result):\n",
     "output_type": "error",
     "traceback": [
      "\u001b[0;31m---------------------------------------------------------------------------\u001b[0m",
      "\u001b[0;31mValueError\u001b[0m                                Traceback (most recent call last)",
      "\u001b[0;32m<ipython-input-39-48bb81c77adb>\u001b[0m in \u001b[0;36m<module>\u001b[0;34m()\u001b[0m\n\u001b[1;32m      5\u001b[0m     \u001b[0mepsilon\u001b[0m\u001b[0;34m=\u001b[0m\u001b[0;36m1e-08\u001b[0m\u001b[0;34m\u001b[0m\u001b[0m\n\u001b[1;32m      6\u001b[0m )\n\u001b[0;32m----> 7\u001b[0;31m \u001b[0moptimizationOperation\u001b[0m \u001b[0;34m=\u001b[0m \u001b[0moptimizer\u001b[0m\u001b[0;34m.\u001b[0m\u001b[0mminimize\u001b[0m\u001b[0;34m(\u001b[0m\u001b[0mlossFunc\u001b[0m\u001b[0;34m)\u001b[0m\u001b[0;34m\u001b[0m\u001b[0m\n\u001b[0m",
      "\u001b[0;32m/home/sayak/tensorflow/lib/python3.5/site-packages/tensorflow/python/training/optimizer.py\u001b[0m in \u001b[0;36mminimize\u001b[0;34m(self, loss, global_step, var_list, gate_gradients, aggregation_method, colocate_gradients_with_ops, name, grad_loss)\u001b[0m\n\u001b[1;32m    287\u001b[0m \u001b[0;34m\u001b[0m\u001b[0m\n\u001b[1;32m    288\u001b[0m     return self.apply_gradients(grads_and_vars, global_step=global_step,\n\u001b[0;32m--> 289\u001b[0;31m                                 name=name)\n\u001b[0m\u001b[1;32m    290\u001b[0m \u001b[0;34m\u001b[0m\u001b[0m\n\u001b[1;32m    291\u001b[0m   def compute_gradients(self, loss, var_list=None,\n",
      "\u001b[0;32m/home/sayak/tensorflow/lib/python3.5/site-packages/tensorflow/python/training/optimizer.py\u001b[0m in \u001b[0;36mapply_gradients\u001b[0;34m(self, grads_and_vars, global_step, name)\u001b[0m\n\u001b[1;32m    401\u001b[0m                        ([str(v) for _, _, v in converted_grads_and_vars],))\n\u001b[1;32m    402\u001b[0m     \u001b[0;32mwith\u001b[0m \u001b[0mops\u001b[0m\u001b[0;34m.\u001b[0m\u001b[0mcontrol_dependencies\u001b[0m\u001b[0;34m(\u001b[0m\u001b[0;32mNone\u001b[0m\u001b[0;34m)\u001b[0m\u001b[0;34m:\u001b[0m\u001b[0;34m\u001b[0m\u001b[0m\n\u001b[0;32m--> 403\u001b[0;31m       \u001b[0mself\u001b[0m\u001b[0;34m.\u001b[0m\u001b[0m_create_slots\u001b[0m\u001b[0;34m(\u001b[0m\u001b[0mvar_list\u001b[0m\u001b[0;34m)\u001b[0m\u001b[0;34m\u001b[0m\u001b[0m\n\u001b[0m\u001b[1;32m    404\u001b[0m     \u001b[0mupdate_ops\u001b[0m \u001b[0;34m=\u001b[0m \u001b[0;34m[\u001b[0m\u001b[0;34m]\u001b[0m\u001b[0;34m\u001b[0m\u001b[0m\n\u001b[1;32m    405\u001b[0m     \u001b[0;32mwith\u001b[0m \u001b[0mops\u001b[0m\u001b[0;34m.\u001b[0m\u001b[0mname_scope\u001b[0m\u001b[0;34m(\u001b[0m\u001b[0mname\u001b[0m\u001b[0;34m,\u001b[0m \u001b[0mself\u001b[0m\u001b[0;34m.\u001b[0m\u001b[0m_name\u001b[0m\u001b[0;34m)\u001b[0m \u001b[0;32mas\u001b[0m \u001b[0mname\u001b[0m\u001b[0;34m:\u001b[0m\u001b[0;34m\u001b[0m\u001b[0m\n",
      "\u001b[0;32m/home/sayak/tensorflow/lib/python3.5/site-packages/tensorflow/python/training/adam.py\u001b[0m in \u001b[0;36m_create_slots\u001b[0;34m(self, var_list)\u001b[0m\n\u001b[1;32m    115\u001b[0m     \u001b[0;31m# Create slots for the first and second moments.\u001b[0m\u001b[0;34m\u001b[0m\u001b[0;34m\u001b[0m\u001b[0m\n\u001b[1;32m    116\u001b[0m     \u001b[0;32mfor\u001b[0m \u001b[0mv\u001b[0m \u001b[0;32min\u001b[0m \u001b[0mvar_list\u001b[0m\u001b[0;34m:\u001b[0m\u001b[0;34m\u001b[0m\u001b[0m\n\u001b[0;32m--> 117\u001b[0;31m       \u001b[0mself\u001b[0m\u001b[0;34m.\u001b[0m\u001b[0m_zeros_slot\u001b[0m\u001b[0;34m(\u001b[0m\u001b[0mv\u001b[0m\u001b[0;34m,\u001b[0m \u001b[0;34m\"m\"\u001b[0m\u001b[0;34m,\u001b[0m \u001b[0mself\u001b[0m\u001b[0;34m.\u001b[0m\u001b[0m_name\u001b[0m\u001b[0;34m)\u001b[0m\u001b[0;34m\u001b[0m\u001b[0m\n\u001b[0m\u001b[1;32m    118\u001b[0m       \u001b[0mself\u001b[0m\u001b[0;34m.\u001b[0m\u001b[0m_zeros_slot\u001b[0m\u001b[0;34m(\u001b[0m\u001b[0mv\u001b[0m\u001b[0;34m,\u001b[0m \u001b[0;34m\"v\"\u001b[0m\u001b[0;34m,\u001b[0m \u001b[0mself\u001b[0m\u001b[0;34m.\u001b[0m\u001b[0m_name\u001b[0m\u001b[0;34m)\u001b[0m\u001b[0;34m\u001b[0m\u001b[0m\n\u001b[1;32m    119\u001b[0m \u001b[0;34m\u001b[0m\u001b[0m\n",
      "\u001b[0;32m/home/sayak/tensorflow/lib/python3.5/site-packages/tensorflow/python/training/optimizer.py\u001b[0m in \u001b[0;36m_zeros_slot\u001b[0;34m(self, var, slot_name, op_name)\u001b[0m\n\u001b[1;32m    645\u001b[0m     \u001b[0mnamed_slots\u001b[0m \u001b[0;34m=\u001b[0m \u001b[0mself\u001b[0m\u001b[0;34m.\u001b[0m\u001b[0m_slot_dict\u001b[0m\u001b[0;34m(\u001b[0m\u001b[0mslot_name\u001b[0m\u001b[0;34m)\u001b[0m\u001b[0;34m\u001b[0m\u001b[0m\n\u001b[1;32m    646\u001b[0m     \u001b[0;32mif\u001b[0m \u001b[0mvar\u001b[0m \u001b[0;32mnot\u001b[0m \u001b[0;32min\u001b[0m \u001b[0mnamed_slots\u001b[0m\u001b[0;34m:\u001b[0m\u001b[0;34m\u001b[0m\u001b[0m\n\u001b[0;32m--> 647\u001b[0;31m       \u001b[0mnamed_slots\u001b[0m\u001b[0;34m[\u001b[0m\u001b[0mvar\u001b[0m\u001b[0;34m]\u001b[0m \u001b[0;34m=\u001b[0m \u001b[0mslot_creator\u001b[0m\u001b[0;34m.\u001b[0m\u001b[0mcreate_zeros_slot\u001b[0m\u001b[0;34m(\u001b[0m\u001b[0mvar\u001b[0m\u001b[0;34m,\u001b[0m \u001b[0mop_name\u001b[0m\u001b[0;34m)\u001b[0m\u001b[0;34m\u001b[0m\u001b[0m\n\u001b[0m\u001b[1;32m    648\u001b[0m     \u001b[0;32mreturn\u001b[0m \u001b[0mnamed_slots\u001b[0m\u001b[0;34m[\u001b[0m\u001b[0mvar\u001b[0m\u001b[0;34m]\u001b[0m\u001b[0;34m\u001b[0m\u001b[0m\n",
      "\u001b[0;32m/home/sayak/tensorflow/lib/python3.5/site-packages/tensorflow/python/training/slot_creator.py\u001b[0m in \u001b[0;36mcreate_zeros_slot\u001b[0;34m(primary, name, dtype, colocate_with_primary)\u001b[0m\n\u001b[1;32m    121\u001b[0m   \u001b[0mval\u001b[0m \u001b[0;34m=\u001b[0m \u001b[0marray_ops\u001b[0m\u001b[0;34m.\u001b[0m\u001b[0mzeros\u001b[0m\u001b[0;34m(\u001b[0m\u001b[0mprimary\u001b[0m\u001b[0;34m.\u001b[0m\u001b[0mget_shape\u001b[0m\u001b[0;34m(\u001b[0m\u001b[0;34m)\u001b[0m\u001b[0;34m.\u001b[0m\u001b[0mas_list\u001b[0m\u001b[0;34m(\u001b[0m\u001b[0;34m)\u001b[0m\u001b[0;34m,\u001b[0m \u001b[0mdtype\u001b[0m\u001b[0;34m=\u001b[0m\u001b[0mdtype\u001b[0m\u001b[0;34m)\u001b[0m\u001b[0;34m\u001b[0m\u001b[0m\n\u001b[1;32m    122\u001b[0m   return create_slot(primary, val, name,\n\u001b[0;32m--> 123\u001b[0;31m                      colocate_with_primary=colocate_with_primary)\n\u001b[0m",
      "\u001b[0;32m/home/sayak/tensorflow/lib/python3.5/site-packages/tensorflow/python/training/slot_creator.py\u001b[0m in \u001b[0;36mcreate_slot\u001b[0;34m(primary, val, name, colocate_with_primary)\u001b[0m\n\u001b[1;32m     99\u001b[0m     \u001b[0;32mif\u001b[0m \u001b[0mcolocate_with_primary\u001b[0m\u001b[0;34m:\u001b[0m\u001b[0;34m\u001b[0m\u001b[0m\n\u001b[1;32m    100\u001b[0m       \u001b[0;32mwith\u001b[0m \u001b[0mops\u001b[0m\u001b[0;34m.\u001b[0m\u001b[0mcolocate_with\u001b[0m\u001b[0;34m(\u001b[0m\u001b[0mprimary\u001b[0m\u001b[0;34m)\u001b[0m\u001b[0;34m:\u001b[0m\u001b[0;34m\u001b[0m\u001b[0m\n\u001b[0;32m--> 101\u001b[0;31m         \u001b[0;32mreturn\u001b[0m \u001b[0m_create_slot_var\u001b[0m\u001b[0;34m(\u001b[0m\u001b[0mprimary\u001b[0m\u001b[0;34m,\u001b[0m \u001b[0mval\u001b[0m\u001b[0;34m,\u001b[0m \u001b[0;34m''\u001b[0m\u001b[0;34m)\u001b[0m\u001b[0;34m\u001b[0m\u001b[0m\n\u001b[0m\u001b[1;32m    102\u001b[0m     \u001b[0;32melse\u001b[0m\u001b[0;34m:\u001b[0m\u001b[0;34m\u001b[0m\u001b[0m\n\u001b[1;32m    103\u001b[0m       \u001b[0;32mreturn\u001b[0m \u001b[0m_create_slot_var\u001b[0m\u001b[0;34m(\u001b[0m\u001b[0mprimary\u001b[0m\u001b[0;34m,\u001b[0m \u001b[0mval\u001b[0m\u001b[0;34m,\u001b[0m \u001b[0;34m''\u001b[0m\u001b[0;34m)\u001b[0m\u001b[0;34m\u001b[0m\u001b[0m\n",
      "\u001b[0;32m/home/sayak/tensorflow/lib/python3.5/site-packages/tensorflow/python/training/slot_creator.py\u001b[0m in \u001b[0;36m_create_slot_var\u001b[0;34m(primary, val, scope)\u001b[0m\n\u001b[1;32m     53\u001b[0m   \u001b[0mcurrent_partitioner\u001b[0m \u001b[0;34m=\u001b[0m \u001b[0mvariable_scope\u001b[0m\u001b[0;34m.\u001b[0m\u001b[0mget_variable_scope\u001b[0m\u001b[0;34m(\u001b[0m\u001b[0;34m)\u001b[0m\u001b[0;34m.\u001b[0m\u001b[0mpartitioner\u001b[0m\u001b[0;34m\u001b[0m\u001b[0m\n\u001b[1;32m     54\u001b[0m   \u001b[0mvariable_scope\u001b[0m\u001b[0;34m.\u001b[0m\u001b[0mget_variable_scope\u001b[0m\u001b[0;34m(\u001b[0m\u001b[0;34m)\u001b[0m\u001b[0;34m.\u001b[0m\u001b[0mset_partitioner\u001b[0m\u001b[0;34m(\u001b[0m\u001b[0;32mNone\u001b[0m\u001b[0;34m)\u001b[0m\u001b[0;34m\u001b[0m\u001b[0m\n\u001b[0;32m---> 55\u001b[0;31m   \u001b[0mslot\u001b[0m \u001b[0;34m=\u001b[0m \u001b[0mvariable_scope\u001b[0m\u001b[0;34m.\u001b[0m\u001b[0mget_variable\u001b[0m\u001b[0;34m(\u001b[0m\u001b[0mscope\u001b[0m\u001b[0;34m,\u001b[0m \u001b[0minitializer\u001b[0m\u001b[0;34m=\u001b[0m\u001b[0mval\u001b[0m\u001b[0;34m,\u001b[0m \u001b[0mtrainable\u001b[0m\u001b[0;34m=\u001b[0m\u001b[0;32mFalse\u001b[0m\u001b[0;34m)\u001b[0m\u001b[0;34m\u001b[0m\u001b[0m\n\u001b[0m\u001b[1;32m     56\u001b[0m   \u001b[0mvariable_scope\u001b[0m\u001b[0;34m.\u001b[0m\u001b[0mget_variable_scope\u001b[0m\u001b[0;34m(\u001b[0m\u001b[0;34m)\u001b[0m\u001b[0;34m.\u001b[0m\u001b[0mset_partitioner\u001b[0m\u001b[0;34m(\u001b[0m\u001b[0mcurrent_partitioner\u001b[0m\u001b[0;34m)\u001b[0m\u001b[0;34m\u001b[0m\u001b[0m\n\u001b[1;32m     57\u001b[0m \u001b[0;34m\u001b[0m\u001b[0m\n",
      "\u001b[0;32m/home/sayak/tensorflow/lib/python3.5/site-packages/tensorflow/python/ops/variable_scope.py\u001b[0m in \u001b[0;36mget_variable\u001b[0;34m(name, shape, dtype, initializer, regularizer, trainable, collections, caching_device, partitioner, validate_shape, custom_getter)\u001b[0m\n\u001b[1;32m    986\u001b[0m       \u001b[0mcollections\u001b[0m\u001b[0;34m=\u001b[0m\u001b[0mcollections\u001b[0m\u001b[0;34m,\u001b[0m \u001b[0mcaching_device\u001b[0m\u001b[0;34m=\u001b[0m\u001b[0mcaching_device\u001b[0m\u001b[0;34m,\u001b[0m\u001b[0;34m\u001b[0m\u001b[0m\n\u001b[1;32m    987\u001b[0m       \u001b[0mpartitioner\u001b[0m\u001b[0;34m=\u001b[0m\u001b[0mpartitioner\u001b[0m\u001b[0;34m,\u001b[0m \u001b[0mvalidate_shape\u001b[0m\u001b[0;34m=\u001b[0m\u001b[0mvalidate_shape\u001b[0m\u001b[0;34m,\u001b[0m\u001b[0;34m\u001b[0m\u001b[0m\n\u001b[0;32m--> 988\u001b[0;31m       custom_getter=custom_getter)\n\u001b[0m\u001b[1;32m    989\u001b[0m get_variable_or_local_docstring = (\n\u001b[1;32m    990\u001b[0m     \"\"\"%s\n",
      "\u001b[0;32m/home/sayak/tensorflow/lib/python3.5/site-packages/tensorflow/python/ops/variable_scope.py\u001b[0m in \u001b[0;36mget_variable\u001b[0;34m(self, var_store, name, shape, dtype, initializer, regularizer, trainable, collections, caching_device, partitioner, validate_shape, custom_getter)\u001b[0m\n\u001b[1;32m    888\u001b[0m           \u001b[0mcollections\u001b[0m\u001b[0;34m=\u001b[0m\u001b[0mcollections\u001b[0m\u001b[0;34m,\u001b[0m \u001b[0mcaching_device\u001b[0m\u001b[0;34m=\u001b[0m\u001b[0mcaching_device\u001b[0m\u001b[0;34m,\u001b[0m\u001b[0;34m\u001b[0m\u001b[0m\n\u001b[1;32m    889\u001b[0m           \u001b[0mpartitioner\u001b[0m\u001b[0;34m=\u001b[0m\u001b[0mpartitioner\u001b[0m\u001b[0;34m,\u001b[0m \u001b[0mvalidate_shape\u001b[0m\u001b[0;34m=\u001b[0m\u001b[0mvalidate_shape\u001b[0m\u001b[0;34m,\u001b[0m\u001b[0;34m\u001b[0m\u001b[0m\n\u001b[0;32m--> 890\u001b[0;31m           custom_getter=custom_getter)\n\u001b[0m\u001b[1;32m    891\u001b[0m \u001b[0;34m\u001b[0m\u001b[0m\n\u001b[1;32m    892\u001b[0m   def _get_partitioned_variable(self,\n",
      "\u001b[0;32m/home/sayak/tensorflow/lib/python3.5/site-packages/tensorflow/python/ops/variable_scope.py\u001b[0m in \u001b[0;36mget_variable\u001b[0;34m(self, name, shape, dtype, initializer, regularizer, reuse, trainable, collections, caching_device, partitioner, validate_shape, custom_getter)\u001b[0m\n\u001b[1;32m    346\u001b[0m           \u001b[0mreuse\u001b[0m\u001b[0;34m=\u001b[0m\u001b[0mreuse\u001b[0m\u001b[0;34m,\u001b[0m \u001b[0mtrainable\u001b[0m\u001b[0;34m=\u001b[0m\u001b[0mtrainable\u001b[0m\u001b[0;34m,\u001b[0m \u001b[0mcollections\u001b[0m\u001b[0;34m=\u001b[0m\u001b[0mcollections\u001b[0m\u001b[0;34m,\u001b[0m\u001b[0;34m\u001b[0m\u001b[0m\n\u001b[1;32m    347\u001b[0m           \u001b[0mcaching_device\u001b[0m\u001b[0;34m=\u001b[0m\u001b[0mcaching_device\u001b[0m\u001b[0;34m,\u001b[0m \u001b[0mpartitioner\u001b[0m\u001b[0;34m=\u001b[0m\u001b[0mpartitioner\u001b[0m\u001b[0;34m,\u001b[0m\u001b[0;34m\u001b[0m\u001b[0m\n\u001b[0;32m--> 348\u001b[0;31m           validate_shape=validate_shape)\n\u001b[0m\u001b[1;32m    349\u001b[0m \u001b[0;34m\u001b[0m\u001b[0m\n\u001b[1;32m    350\u001b[0m   def _get_partitioned_variable(\n",
      "\u001b[0;32m/home/sayak/tensorflow/lib/python3.5/site-packages/tensorflow/python/ops/variable_scope.py\u001b[0m in \u001b[0;36m_true_getter\u001b[0;34m(name, shape, dtype, initializer, regularizer, reuse, trainable, collections, caching_device, partitioner, validate_shape)\u001b[0m\n\u001b[1;32m    331\u001b[0m           \u001b[0minitializer\u001b[0m\u001b[0;34m=\u001b[0m\u001b[0minitializer\u001b[0m\u001b[0;34m,\u001b[0m \u001b[0mregularizer\u001b[0m\u001b[0;34m=\u001b[0m\u001b[0mregularizer\u001b[0m\u001b[0;34m,\u001b[0m \u001b[0mreuse\u001b[0m\u001b[0;34m=\u001b[0m\u001b[0mreuse\u001b[0m\u001b[0;34m,\u001b[0m\u001b[0;34m\u001b[0m\u001b[0m\n\u001b[1;32m    332\u001b[0m           \u001b[0mtrainable\u001b[0m\u001b[0;34m=\u001b[0m\u001b[0mtrainable\u001b[0m\u001b[0;34m,\u001b[0m \u001b[0mcollections\u001b[0m\u001b[0;34m=\u001b[0m\u001b[0mcollections\u001b[0m\u001b[0;34m,\u001b[0m\u001b[0;34m\u001b[0m\u001b[0m\n\u001b[0;32m--> 333\u001b[0;31m           caching_device=caching_device, validate_shape=validate_shape)\n\u001b[0m\u001b[1;32m    334\u001b[0m \u001b[0;34m\u001b[0m\u001b[0m\n\u001b[1;32m    335\u001b[0m     \u001b[0;32mif\u001b[0m \u001b[0mcustom_getter\u001b[0m \u001b[0;32mis\u001b[0m \u001b[0;32mnot\u001b[0m \u001b[0;32mNone\u001b[0m\u001b[0;34m:\u001b[0m\u001b[0;34m\u001b[0m\u001b[0m\n",
      "\u001b[0;32m/home/sayak/tensorflow/lib/python3.5/site-packages/tensorflow/python/ops/variable_scope.py\u001b[0m in \u001b[0;36m_get_single_variable\u001b[0;34m(self, name, shape, dtype, initializer, regularizer, partition_info, reuse, trainable, collections, caching_device, validate_shape)\u001b[0m\n\u001b[1;32m    637\u001b[0m                          \u001b[0;34m\" Did you mean to set reuse=True in VarScope? \"\u001b[0m\u001b[0;34m\u001b[0m\u001b[0m\n\u001b[1;32m    638\u001b[0m                          \"Originally defined at:\\n\\n%s\" % (\n\u001b[0;32m--> 639\u001b[0;31m                              name, \"\".join(traceback.format_list(tb))))\n\u001b[0m\u001b[1;32m    640\u001b[0m       \u001b[0mfound_var\u001b[0m \u001b[0;34m=\u001b[0m \u001b[0mself\u001b[0m\u001b[0;34m.\u001b[0m\u001b[0m_vars\u001b[0m\u001b[0;34m[\u001b[0m\u001b[0mname\u001b[0m\u001b[0;34m]\u001b[0m\u001b[0;34m\u001b[0m\u001b[0m\n\u001b[1;32m    641\u001b[0m       \u001b[0;32mif\u001b[0m \u001b[0;32mnot\u001b[0m \u001b[0mshape\u001b[0m\u001b[0;34m.\u001b[0m\u001b[0mis_compatible_with\u001b[0m\u001b[0;34m(\u001b[0m\u001b[0mfound_var\u001b[0m\u001b[0;34m.\u001b[0m\u001b[0mget_shape\u001b[0m\u001b[0;34m(\u001b[0m\u001b[0;34m)\u001b[0m\u001b[0;34m)\u001b[0m\u001b[0;34m:\u001b[0m\u001b[0;34m\u001b[0m\u001b[0m\n",
      "\u001b[0;31mValueError\u001b[0m: Variable embedding_rnn_seq2seq/rnn/multi_rnn_cell/cell_0/basic_lstm_cell/weights/Adam/ already exists, disallowed. Did you mean to set reuse=True in VarScope? Originally defined at:\n\n  File \"<ipython-input-16-48bb81c77adb>\", line 7, in <module>\n    optimizationOperation = optimizer.minimize(lossFunc)\n  File \"/home/sayak/tensorflow/lib/python3.5/site-packages/IPython/core/interactiveshell.py\", line 2881, in run_code\n    exec(code_obj, self.user_global_ns, self.user_ns)\n  File \"/home/sayak/tensorflow/lib/python3.5/site-packages/IPython/core/interactiveshell.py\", line 2821, in run_ast_nodes\n    if self.run_code(code, result):\n"
     ]
    }
   ],
   "source": [
    "optimizer = tf.train.AdamOptimizer(\n",
    "    learning_rate=learningRate,\n",
    "    beta1=0.9,\n",
    "    beta2=0.999,\n",
    "    epsilon=1e-08\n",
    ")\n",
    "optimizationOperation = optimizer.minimize(lossFunc)"
   ]
  },
  {
   "cell_type": "code",
   "execution_count": 40,
   "metadata": {
    "collapsed": false,
    "deletable": true,
    "editable": true
   },
   "outputs": [],
   "source": [
    "writer = tf.summary.FileWriter('seq2seq')\n",
    "saver = tf.train.Saver(max_to_keep=200)"
   ]
  },
  {
   "cell_type": "code",
   "execution_count": 41,
   "metadata": {
    "collapsed": true,
    "deletable": true,
    "editable": true
   },
   "outputs": [],
   "source": [
    "sess = tf.Session(\n",
    "    config=tf.ConfigProto(\n",
    "        allow_soft_placement=True,\n",
    "        log_device_placement=False\n",
    "    )\n",
    ")\n",
    "sess.run(tf.global_variables_initializer())"
   ]
  },
  {
   "cell_type": "code",
   "execution_count": 42,
   "metadata": {
    "collapsed": false,
    "deletable": true,
    "editable": true,
    "scrolled": false
   },
   "outputs": [
    {
     "ename": "ValueError",
     "evalue": "list.remove(x): x not in list",
     "output_type": "error",
     "traceback": [
      "\u001b[0;31m---------------------------------------------------------------------------\u001b[0m",
      "\u001b[0;31mValueError\u001b[0m                                Traceback (most recent call last)",
      "\u001b[0;32m<ipython-input-42-8b592e2e83d3>\u001b[0m in \u001b[0;36m<module>\u001b[0;34m()\u001b[0m\n\u001b[1;32m      6\u001b[0m \u001b[0;34m\u001b[0m\u001b[0m\n\u001b[1;32m      7\u001b[0m \u001b[0membedding_vars\u001b[0m \u001b[0;34m=\u001b[0m \u001b[0mtf\u001b[0m\u001b[0;34m.\u001b[0m\u001b[0mget_collection_ref\u001b[0m\u001b[0;34m(\u001b[0m\u001b[0mtf\u001b[0m\u001b[0;34m.\u001b[0m\u001b[0mGraphKeys\u001b[0m\u001b[0;34m.\u001b[0m\u001b[0mTRAINABLE_VARIABLES\u001b[0m\u001b[0;34m)\u001b[0m\u001b[0;34m\u001b[0m\u001b[0m\n\u001b[0;32m----> 8\u001b[0;31m \u001b[0membedding_vars\u001b[0m\u001b[0;34m.\u001b[0m\u001b[0mremove\u001b[0m\u001b[0;34m(\u001b[0m\u001b[0min_embedding\u001b[0m\u001b[0;34m)\u001b[0m\u001b[0;34m\u001b[0m\u001b[0m\n\u001b[0m\u001b[1;32m      9\u001b[0m \u001b[0membedding_vars\u001b[0m\u001b[0;34m.\u001b[0m\u001b[0mremove\u001b[0m\u001b[0;34m(\u001b[0m\u001b[0mout_embedding\u001b[0m\u001b[0;34m)\u001b[0m\u001b[0;34m\u001b[0m\u001b[0m\n\u001b[1;32m     10\u001b[0m \u001b[0;34m\u001b[0m\u001b[0m\n",
      "\u001b[0;31mValueError\u001b[0m: list.remove(x): x not in list"
     ]
    }
   ],
   "source": [
    "#Change variable scope name\n",
    "with tf.variable_scope(\"embedding_rnn_seq2seq/rnn/embedding_wrapper\", reuse=True):\n",
    "    in_embedding = tf.get_variable(\"embedding\")\n",
    "with tf.variable_scope(\"embedding_rnn_seq2seq/embedding_rnn_decoder\", reuse=True):\n",
    "    out_embedding = tf.get_variable(\"embedding\")\n",
    "\n",
    "embedding_vars = tf.get_collection_ref(tf.GraphKeys.TRAINABLE_VARIABLES)\n",
    "embedding_vars.remove(in_embedding)\n",
    "embedding_vars.remove(out_embedding)\n",
    "\n",
    "'''\n",
    "if globalStep != 0:\n",
    "    return\n",
    "'''"
   ]
  },
  {
   "cell_type": "code",
   "execution_count": 43,
   "metadata": {
    "collapsed": false,
    "deletable": true,
    "editable": true,
    "scrolled": true
   },
   "outputs": [],
   "source": [
    "with open(os.path.join(cwd, 'data/word2vec/GoogleNews-vectors-negative300.bin'), \"rb\", 0) as f:\n",
    "    header = f.readline().split()\n",
    "    #print(header)\n",
    "    vocabulary_size = int(header[0])\n",
    "    word_vector_size = int(header[1])\n",
    "    #print('{}, {}'.format(vocabulary_size, word_vector_size))\n",
    "    binary_length = np.dtype('float32').itemsize * word_vector_size\n",
    "    #print(binary_length)\n",
    "    initial_weights = np.random.uniform(-0.25, 0.25, (len(wordIDMap), word_vector_size))\n",
    "    #print(initial_weights)\n",
    "    for line in range(word_vector_size):\n",
    "        word = []\n",
    "        while True:\n",
    "            ch = f.read(1)\n",
    "            if ch == b' ':\n",
    "                word = b''.join(word).decode('utf-8')\n",
    "                break\n",
    "            if ch != b'\\n':\n",
    "                word.append(ch)\n",
    "        if word in wordIDMap:\n",
    "            initial_weights[wordIDMap[word]] = np.fromstring(f.read(binary_length), dtype='float32')\n",
    "        else:\n",
    "            f.read(binary_length)"
   ]
  },
  {
   "cell_type": "code",
   "execution_count": 44,
   "metadata": {
    "collapsed": false,
    "deletable": true,
    "editable": true
   },
   "outputs": [],
   "source": [
    "if embeddingSize < word_vector_size:\n",
    "    u, s, vt = np.linalg.svd(initial_weights, full_matrices=False)\n",
    "    S = np.zeros((word_vector_size, word_vector_size), dtype=complex)\n",
    "    S[:word_vector_size, :word_vector_size] = np.diag(s)\n",
    "    initial_weights = np.dot(u[:, :embeddingSize], S[:embeddingSize, :embeddingSize])"
   ]
  },
  {
   "cell_type": "code",
   "execution_count": 45,
   "metadata": {
    "collapsed": false,
    "deletable": true,
    "editable": true
   },
   "outputs": [
    {
     "name": "stderr",
     "output_type": "stream",
     "text": [
      "/home/sayak/tensorflow/lib/python3.5/site-packages/tensorflow/python/framework/tensor_util.py:355: ComplexWarning: Casting complex values to real discards the imaginary part\n",
      "  nparray = values.astype(dtype.as_numpy_dtype)\n"
     ]
    },
    {
     "data": {
      "text/plain": [
       "array([[ 0.02442564,  0.01449201,  0.17819051, ...,  0.29747248,\n",
       "        -0.22108015, -0.19583753],\n",
       "       [ 0.09369779,  0.07363001,  0.07704376, ..., -0.18864214,\n",
       "         0.19162565, -0.10645648],\n",
       "       [-0.10043826, -0.03329198,  0.20276904, ...,  0.03705681,\n",
       "         0.22164914, -0.07328618],\n",
       "       ..., \n",
       "       [-0.03504413,  0.16652584, -0.20387016, ..., -0.0523993 ,\n",
       "        -0.12524308,  0.06757042],\n",
       "       [ 0.1423067 , -0.22834739, -0.01715017, ..., -0.13829713,\n",
       "        -0.10723506, -0.20472412],\n",
       "       [ 0.19271727, -0.13890515,  0.12240385, ..., -0.11258908,\n",
       "         0.24868603, -0.18852122]], dtype=float32)"
      ]
     },
     "execution_count": 45,
     "metadata": {},
     "output_type": "execute_result"
    }
   ],
   "source": [
    "sess.run(in_embedding.assign(initial_weights))\n",
    "sess.run(out_embedding.assign(initial_weights))"
   ]
  },
  {
   "cell_type": "code",
   "execution_count": 46,
   "metadata": {
    "collapsed": true,
    "deletable": true,
    "editable": true
   },
   "outputs": [],
   "source": [
    "def generateNextSample():\n",
    "    for i in range(0, len(trainingSamples), batchSize):\n",
    "        yield trainingSamples[i:min(i + batchSize, len(trainingSamples))]"
   ]
  },
  {
   "cell_type": "code",
   "execution_count": 47,
   "metadata": {
    "collapsed": true,
    "deletable": true,
    "editable": true
   },
   "outputs": [],
   "source": [
    "class Batch:\n",
    "    def __init__(self):\n",
    "        self.encoderSeqs = []\n",
    "        self.decoderSeqs = []\n",
    "        self.targetSeqs = []\n",
    "        self.weights = []"
   ]
  },
  {
   "cell_type": "code",
   "execution_count": 48,
   "metadata": {
    "collapsed": true,
    "deletable": true,
    "editable": true
   },
   "outputs": [],
   "source": [
    "def saveModel():\n",
    "    print('Saving model checkpoint...')\n",
    "    model_name = 'model_' + str(globalStep) + '.ckpt'\n",
    "    if globalStep == 30:\n",
    "        model_name = 'model.ckpt'\n",
    "    saver.save(sess, os.path.join(cwd, 'saved_model', model_name))\n",
    "    print('Done')"
   ]
  },
  {
   "cell_type": "code",
   "execution_count": 49,
   "metadata": {
    "collapsed": true,
    "deletable": true,
    "editable": true
   },
   "outputs": [],
   "source": [
    "def makeBatch(samples):\n",
    "    batch = Batch()\n",
    "    batchSize = len(samples)\n",
    "    for i in range(batchSize):\n",
    "        sample = samples[i]\n",
    "        #print(sample)\n",
    "        batch.encoderSeqs.append(list(reversed(sample[0])))\n",
    "        batch.decoderSeqs.append([goToken] + sample[1] + [eosToken])\n",
    "        batch.targetSeqs.append(batch.decoderSeqs[-1][1:])\n",
    "\n",
    "        batch.encoderSeqs[i] = [padToken] * (encoderMaxLength - len(batch.encoderSeqs[i])) + batch.encoderSeqs[i]\n",
    "        batch.weights.append([1.0] * len(batch.targetSeqs[i]) + [0.0] * (decoderMaxLength - len(batch.targetSeqs[i])))\n",
    "        batch.decoderSeqs[i] = batch.decoderSeqs[i] + [padToken] * (decoderMaxLength - len(batch.decoderSeqs[i]))\n",
    "        batch.targetSeqs[i] = batch.targetSeqs[i] + [padToken] * (decoderMaxLength - len(batch.targetSeqs[i]))\n",
    "\n",
    "    encoderSeqListT = []\n",
    "    for i in range(encoderMaxLength):\n",
    "        encoderSeqT = []\n",
    "        for j in range(batchSize):\n",
    "            encoderSeqT.append(batch.encoderSeqs[j][i])\n",
    "        encoderSeqListT.append(encoderSeqT)\n",
    "    batch.encoderSeqs = encoderSeqListT\n",
    "\n",
    "    decoderSeqListT = []\n",
    "    targetSeqListT = []\n",
    "    weightListT = []\n",
    "    for i in range(decoderMaxLength):\n",
    "        decoderSeqT = []\n",
    "        targetSeqT = []\n",
    "        weightT = []\n",
    "        for j in range(batchSize):\n",
    "            #print('j: {}, i:{}'.format(j,i))\n",
    "            decoderSeqT.append(batch.decoderSeqs[j][i])\n",
    "            targetSeqT.append(batch.targetSeqs[j][i])\n",
    "            weightT.append(batch.weights[j][i])\n",
    "        decoderSeqListT.append(decoderSeqT)\n",
    "        targetSeqListT.append(targetSeqT)\n",
    "        weightListT.append(weightT)\n",
    "    batch.decoderSeqs = decoderSeqListT\n",
    "    batch.targetSeqs = targetSeqListT\n",
    "    batch.weights = weightListT\n",
    "    return batch"
   ]
  },
  {
   "cell_type": "code",
   "execution_count": 51,
   "metadata": {
    "collapsed": false,
    "deletable": true,
    "editable": true
   },
   "outputs": [
    {
     "name": "stdout",
     "output_type": "stream",
     "text": [
      "\n",
      "Epoch 1\n"
     ]
    },
    {
     "name": "stderr",
     "output_type": "stream",
     "text": [
      "\r",
      "Training:   0%|          | 0/547 [00:00<?, ?it/s]"
     ]
    },
    {
     "name": "stdout",
     "output_type": "stream",
     "text": [
      "[[0, 0, 0, 5, 0, 0, 5, 0, 0, 0, 0, 0, 0, 0, 0, 0, 0, 0, 0, 0, 0, 0, 0, 0, 72, 18, 0, 0, 0, 0, 0, 0, 0, 0, 0, 0, 0, 0, 0, 0, 0, 0, 0, 0, 0, 0, 0, 0, 0, 0, 0, 0, 0, 0, 5, 0, 0, 0, 0, 0, 0, 0, 0, 0, 0, 0, 18, 0, 0, 0, 0, 0, 0, 0, 0, 0, 18, 5, 0, 0, 0, 0, 0, 0, 0, 0, 0, 0, 0, 18, 0, 0, 0, 0, 0, 0, 0, 0, 0, 0, 0, 0, 0, 0, 0, 0, 0, 0, 0, 0, 0, 0, 0, 0, 0, 0, 0, 0, 0, 0, 0, 0, 0, 0, 0, 0, 0, 0, 0, 0, 0, 0, 0, 0, 0, 0, 0, 0, 0, 0, 0, 0, 0, 0, 0, 0, 0, 0, 5, 0, 0, 0, 0, 0, 0, 0, 0, 0, 0, 0, 0, 0, 0, 0, 0, 0, 0, 18, 0, 0, 0, 0, 5, 0, 0, 0, 0, 0, 0, 146, 0, 0, 0, 0, 0, 0, 5, 0, 0, 0, 0, 0, 0, 0, 0, 0, 0, 0, 0, 0, 0, 0, 0, 0, 0, 0, 0, 0, 0, 0, 0, 5, 0, 0, 0, 0, 0, 0, 0, 0, 0, 0, 5, 0, 0, 0, 18, 0, 0, 0, 0, 0, 0, 0, 0, 0, 0, 0, 0, 0, 0, 0, 0, 0, 0, 0, 0, 0, 0, 0, 0, 0, 0, 0, 0, 0], [0, 0, 0, 4946, 0, 0, 170, 5, 0, 0, 0, 0, 0, 36, 0, 0, 0, 0, 0, 0, 0, 0, 146, 0, 542, 18696, 0, 0, 18, 0, 0, 0, 0, 0, 0, 0, 0, 0, 0, 5, 0, 0, 0, 0, 0, 0, 0, 0, 0, 0, 0, 0, 0, 0, 418, 0, 0, 0, 0, 0, 0, 0, 0, 0, 0, 0, 1411, 0, 0, 0, 0, 0, 5, 18, 0, 0, 146, 163, 0, 0, 0, 0, 0, 0, 0, 0, 0, 0, 0, 241, 18, 0, 0, 0, 0, 0, 0, 0, 0, 0, 0, 0, 0, 0, 0, 0, 0, 0, 0, 0, 0, 0, 0, 0, 0, 0, 0, 18, 0, 0, 0, 18, 0, 0, 0, 0, 5, 0, 0, 0, 0, 0, 0, 0, 0, 0, 0, 0, 18, 0, 0, 0, 0, 0, 0, 0, 0, 0, 265, 0, 0, 5, 0, 0, 0, 0, 0, 0, 0, 0, 0, 0, 0, 0, 0, 0, 0, 32, 0, 5, 0, 0, 10996, 0, 0, 0, 0, 0, 0, 220, 0, 18, 0, 0, 0, 0, 55, 0, 0, 0, 0, 5, 0, 0, 0, 0, 0, 0, 0, 0, 5, 5, 0, 0, 0, 0, 5, 0, 5, 0, 0, 500, 0, 0, 0, 0, 0, 0, 0, 0, 0, 0, 4821, 0, 18, 0, 1410, 0, 0, 0, 0, 0, 0, 0, 18, 0, 0, 5, 0, 0, 0, 0, 0, 0, 0, 0, 0, 0, 0, 0, 5, 0, 0, 0, 0, 0], [0, 0, 0, 7, 0, 0, 1304, 25381, 36, 0, 0, 0, 0, 2522, 0, 0, 0, 0, 0, 0, 5, 0, 259, 0, 6743, 5525, 0, 0, 54, 0, 5, 0, 5, 0, 0, 5, 5, 33627, 0, 694, 0, 0, 0, 18, 0, 0, 0, 18, 0, 0, 0, 18, 0, 0, 7, 0, 0, 0, 0, 0, 0, 0, 0, 0, 5, 18, 8533, 0, 0, 0, 18, 0, 26212, 55, 0, 0, 18, 55, 0, 0, 0, 0, 0, 0, 0, 0, 0, 0, 0, 2857, 1049, 0, 18, 0, 0, 0, 0, 475, 0, 0, 0, 0, 0, 0, 0, 0, 0, 0, 0, 0, 0, 0, 0, 0, 0, 0, 0, 720, 18, 18, 0, 55, 0, 18, 5, 0, 241, 0, 0, 18, 0, 0, 0, 0, 0, 0, 0, 5, 339, 0, 0, 0, 5, 0, 0, 0, 0, 0, 320, 0, 0, 7180, 5, 0, 0, 0, 0, 0, 0, 0, 0, 0, 0, 0, 0, 0, 0, 121, 0, 55, 0, 0, 131, 0, 0, 0, 0, 0, 0, 43, 5, 37, 0, 0, 0, 9453, 144, 0, 0, 0, 0, 2585, 0, 0, 5, 0, 0, 0, 0, 0, 2521, 23825, 0, 0, 0, 0, 93, 0, 3455, 5, 0, 49, 0, 0, 0, 72, 5, 0, 0, 18, 0, 0, 56, 0, 129, 0, 33, 0, 0, 0, 0, 0, 0, 0, 11753, 0, 0, 448, 0, 0, 0, 0, 5, 0, 0, 0, 0, 0, 146, 0, 1635, 0, 5, 0, 0, 5], [0, 0, 0, 7796, 0, 0, 2676, 66, 43, 0, 0, 0, 5, 694, 0, 5, 0, 0, 0, 0, 210, 0, 7, 0, 185, 4439, 0, 0, 66, 18, 17, 0, 644, 18, 0, 170, 837, 33, 0, 66, 0, 0, 0, 76, 0, 0, 0, 2920, 0, 5, 0, 132, 0, 36, 48, 0, 0, 0, 0, 0, 0, 0, 0, 18, 158, 37, 33, 18, 0, 0, 807, 0, 15, 46, 0, 0, 620, 5, 0, 0, 0, 0, 0, 0, 0, 0, 0, 0, 36, 22, 2659, 0, 1286, 0, 0, 5, 0, 579, 0, 0, 0, 0, 0, 0, 0, 0, 0, 0, 0, 5, 0, 0, 0, 0, 0, 0, 0, 55, 207, 185, 5, 24, 5, 996, 1360, 0, 5158, 0, 0, 2215, 0, 0, 0, 0, 0, 0, 0, 1354, 7, 0, 0, 0, 682, 0, 0, 0, 0, 0, 900, 0, 0, 352, 2069, 0, 5, 0, 0, 18, 0, 5, 0, 0, 0, 5, 0, 0, 0, 45, 0, 58, 0, 5, 121, 0, 18, 0, 0, 0, 0, 244, 118, 72, 0, 0, 18, 36, 5, 0, 0, 5, 0, 667, 5, 0, 7000, 0, 0, 0, 0, 151, 351, 2518, 18, 0, 18, 36, 5, 0, 212, 272, 0, 84, 5, 0, 0, 133, 20, 0, 0, 20, 0, 22, 55, 0, 8960, 0, 6680, 0, 18, 0, 0, 0, 0, 0, 181, 5, 0, 498, 0, 0, 0, 0, 556, 0, 0, 0, 0, 0, 239, 5, 6466, 0, 132, 0, 0, 221], [0, 18, 18, 56, 0, 0, 79, 55, 79, 0, 0, 0, 692, 174, 0, 121, 18, 0, 0, 0, 54, 0, 48, 18, 414, 2628, 0, 0, 694, 6143, 33, 0, 79, 26577, 0, 5012, 33, 15, 0, 376, 5, 0, 0, 74, 0, 0, 0, 667, 0, 189, 0, 79, 18, 67, 964, 5, 0, 18, 0, 0, 0, 0, 5, 40, 79, 5, 36, 3564, 0, 0, 241, 0, 20, 66, 0, 0, 743, 2255, 0, 5, 0, 0, 0, 0, 18, 5, 0, 5, 146, 9, 1708, 18, 66, 18, 0, 10957, 0, 101, 0, 0, 0, 72, 5, 0, 18, 0, 0, 5, 0, 666, 0, 0, 5, 5, 0, 0, 0, 56, 55, 3043, 729, 46, 8784, 33, 104, 5, 79, 0, 0, 104, 0, 146, 0, 0, 0, 0, 3810, 9, 197, 0, 0, 0, 123, 5, 0, 18, 5, 0, 694, 18, 0, 2122, 55, 18, 394, 0, 5, 3032, 0, 7445, 0, 0, 0, 1737, 5, 0, 0, 448, 0, 20, 0, 535, 5, 36, 13, 0, 0, 5, 5, 79, 55, 55, 18, 0, 6152, 22, 26524, 0, 0, 807, 0, 490, 2265, 0, 6999, 5, 0, 0, 5, 5, 304, 30, 40, 5, 115, 2981, 2658, 18, 24, 33, 18, 79, 476, 0, 5, 2690, 156, 0, 0, 48, 0, 16839, 1214, 0, 33, 0, 79, 0, 180, 5, 0, 5, 18, 0, 43, 170, 0, 43, 0, 0, 0, 0, 150, 0, 0, 0, 5, 0, 130, 694, 7, 0, 79, 18, 0, 40], [36, 220, 1468, 55, 0, 5, 2186, 351, 40, 0, 0, 0, 185, 56, 0, 1504, 189, 0, 0, 0, 1073, 0, 40, 480, 33, 16, 18, 0, 206, 71, 274, 0, 3379, 413, 0, 9, 1601, 168, 5, 49, 3008, 5, 18, 194, 0, 0, 0, 32, 0, 66, 5, 84, 84, 241, 16, 346, 0, 12555, 0, 0, 0, 0, 12645, 48, 74, 46, 129, 4020, 0, 0, 1327, 0, 118, 6243, 0, 5, 146, 1112, 18, 274, 18, 0, 475, 5, 210, 4637, 0, 1076, 7318, 55, 48, 1286, 258, 2845, 0, 9, 0, 66, 0, 0, 0, 22, 33699, 5, 2893, 0, 0, 7812, 18, 759, 18, 0, 55, 275, 18, 18, 18, 155, 109, 27260, 11034, 66, 20, 44, 7433, 63, 43, 18, 0, 115, 0, 958, 0, 18, 0, 18, 2083, 468, 206, 0, 0, 0, 19996, 1304, 0, 1318, 8737, 0, 15, 936, 0, 109, 5, 4, 49, 0, 147, 33, 0, 66, 18, 5, 0, 996, 170, 5, 5, 155, 0, 32, 0, 47, 181, 2936, 66, 18, 146, 24306, 1361, 84, 66, 8299, 44, 0, 15, 16700, 66, 0, 5, 1577, 0, 76, 1929, 0, 7, 2780, 0, 0, 3858, 4524, 11121, 66, 104, 16489, 47, 197, 7, 1047, 31, 181, 55, 260, 55, 18, 3360, 128, 705, 0, 0, 6259, 0, 5, 194, 0, 6, 18, 155, 0, 305, 461, 0, 1085, 55, 0, 598, 104, 18, 674, 5, 18, 5, 0, 15, 0, 0, 0, 10384, 5, 170, 43, 181, 0, 14, 9780, 18, 130], [43, 997, 1845, 66, 18, 1334, 1300, 1136, 30, 18, 146, 18, 667, 121, 0, 102, 66, 72, 0, 0, 640, 72, 146, 55, 128, 257, 4, 0, 44, 79, 411, 0, 574, 55, 146, 4801, 1047, 36, 158, 76, 104, 2309, 118, 55, 36, 0, 0, 573, 0, 2606, 2759, 55, 121, 11043, 167, 162, 0, 7, 0, 0, 18, 0, 66, 405, 55, 22, 66, 18, 5, 0, 79, 0, 121, 30, 18, 54, 146, 33, 43, 104, 912, 0, 475, 57, 46, 1422, 0, 181, 7, 271, 405, 66, 72, 66, 0, 119, 5, 6769, 18, 5, 0, 5, 181, 865, 274, 0, 0, 305, 530, 66, 1031, 0, 58, 43, 84, 1054, 17, 18, 352, 27839, 101, 105, 282, 121, 58, 58, 1483, 794, 146, 490, 5, 32, 0, 224, 18, 1557, 1569, 7, 351, 18, 0, 5, 79, 1323, 0, 238, 33, 18, 40, 40, 0, 329, 2809, 55, 640, 5, 71, 55, 5, 1725, 36, 1423, 0, 7, 292, 19417, 63, 18, 0, 79, 18, 2358, 4268, 66, 181, 8044, 241, 15, 7, 55, 164, 22, 168, 0, 17980, 36, 283, 0, 55, 79, 0, 1295, 5, 0, 104, 1856, 18, 0, 66, 149, 128, 76, 426, 123, 1073, 239, 6705, 55, 161, 115, 72, 97, 145, 40, 321, 20, 55, 0, 0, 14, 18, 16892, 55, 18, 56, 16011, 118, 0, 49, 667, 0, 33, 207, 18, 55, 115, 352, 7068, 412, 170, 1994, 0, 27, 18, 0, 0, 8207, 638, 367, 1629, 414, 0, 118, 128, 3781, 493], [480, 168, 7, 11103, 35, 101, 33, 71, 493, 1439, 1179, 168, 446, 5, 0, 1898, 20, 8027, 0, 5, 24, 1217, 2166, 66, 20, 24, 837, 0, 79, 30, 24, 0, 16, 155, 306, 101, 573, 79, 45, 71, 12041, 66, 22, 40, 133, 0, 5, 121, 18, 16, 24, 130, 46, 667, 4113, 255, 18, 84, 0, 5, 207, 0, 40, 7, 5, 93, 8182, 2973, 2055, 0, 260, 0, 5, 24, 14, 130, 146, 6, 224, 205, 55, 0, 4204, 56, 166, 33, 0, 114, 979, 740, 7, 604, 22, 55, 0, 104, 20, 667, 210, 5410, 0, 22433, 3883, 158, 1188, 5, 18, 33, 55, 115, 33, 0, 24, 1980, 5168, 66, 16, 55, 224, 573, 40, 47, 5, 24, 24, 17202, 401, 1902, 1034, 55, 25099, 146, 146, 55, 473, 79, 135, 14016, 128, 7261, 0, 274, 5802, 156, 5, 7, 6, 20, 5, 44, 5, 33, 33, 44, 6, 54, 705, 32, 1286, 16, 55, 66, 0, 181, 24, 55, 40, 15267, 0, 595, 3699, 167, 84, 9055, 292, 16, 571, 27, 181, 146, 373, 274, 28, 0, 1989, 16699, 71, 0, 144, 55, 0, 71, 10633, 0, 6998, 48, 14, 0, 391, 16, 5416, 4128, 46, 71, 169, 298, 22, 162, 72, 71, 483, 22, 144, 480, 161, 229, 69, 5, 0, 102, 22, 1969, 5, 885, 55, 66, 55, 0, 48, 446, 0, 6, 155, 159, 24, 174, 79, 167, 6, 20, 49, 146, 66, 4540, 0, 0, 6, 18186, 169, 135, 33, 5, 24, 22, 185, 24], [1272, 48, 15, 1415, 764, 84, 15, 79, 24, 55, 48, 48, 66, 3271, 72, 327, 48, 224, 36, 259, 23, 16568, 413, 63, 69, 46, 233, 0, 257, 55, 162, 18, 85, 48, 66, 15, 121, 84, 22, 312, 33, 118, 173, 48, 66, 18, 44, 69, 14, 15, 23, 40, 1737, 207, 97, 5, 10160, 22, 5, 6880, 161, 5, 118, 14, 3813, 66, 48, 298, 169, 5, 56, 5, 118, 46, 55, 15, 146, 97, 55, 194, 207, 5, 1960, 55, 1053, 84, 18, 708, 158, 47, 14, 55, 772, 207, 5, 24311, 595, 5, 37, 20, 18, 74, 448, 45, 55, 1215, 8737, 84, 46, 5576, 55, 18, 1558, 24, 162, 736, 15, 207, 55, 37, 58, 118, 67, 46, 1558, 36, 15, 36, 146, 56, 542, 958, 241, 45, 55, 43, 194, 1145, 3858, 177, 5, 15, 128, 66, 6, 15, 15, 48, 1300, 55, 1971, 56, 131, 22, 15, 205, 131, 43, 66, 115, 400, 76, 36, 97, 23, 19416, 30, 167, 18, 233, 167, 2602, 31, 66, 55, 15, 146, 1822, 167, 2748, 1010, 400, 14, 5, 317, 36, 233, 5, 66, 257, 0, 833, 1929, 146, 6997, 1837, 56, 18, 131, 15, 4934, 70, 55, 235, 121, 7, 146, 448, 1304, 233, 72, 118, 5, 55, 229, 22, 22, 62, 18, 36, 772, 63, 630, 56, 36, 14, 36, 146, 36, 235, 5, 56, 146, 18322, 46, 97, 1073, 828, 97, 15, 15, 54, 46, 1272, 5, 5, 97, 15, 15, 15, 97, 405, 46, 229, 667, 28], [45, 452, 73, 13, 161, 22, 67, 62, 162, 207, 47, 73, 9, 8588, 13, 452, 14, 36, 483, 147, 22, 72, 55, 101, 22, 22, 55, 315, 55, 173, 55, 65, 33, 47, 3029, 67, 204, 22, 102, 161, 169, 22, 155, 14, 101, 43, 22, 22, 1187, 170, 168, 48, 14, 67, 22, 234, 36, 813, 9178, 1823, 252, 315, 22, 72, 960, 315, 133, 101, 121, 234, 55, 1572, 121, 55, 970, 40, 159, 22, 235, 22, 14, 315, 7, 2939, 14538, 55, 705, 20, 149, 9, 72, 162, 73, 155, 10486, 33, 169, 3526, 133, 1625, 14, 22, 694, 55, 9, 3461, 7, 22, 14, 968, 207, 73, 47, 46, 14, 14, 14, 155, 162, 9, 169, 55, 54, 37, 20, 65, 168, 1914, 493, 14, 298, 32, 1328, 155, 207, 257, 121, 168, 133, 15353, 93, 20, 22, 2050, 160, 40, 168, 109, 759, 162, 22, 55, 121, 235, 168, 55, 47, 42, 610, 2325, 109, 292, 33148, 22, 55, 20, 22, 14, 1572, 121, 14, 335, 27, 2264, 235, 155, 5848, 20, 155, 123, 169, 55, 9, 33598, 4514, 191, 22, 610, 610, 22, 146, 55, 6, 4356, 7, 7, 55, 14, 168, 40, 7, 20, 162, 20, 45, 65, 93, 155, 493, 22, 9, 55, 9148, 162, 22, 865, 133, 498, 14, 16072, 109, 16891, 147, 55, 610, 155, 93, 80, 47, 47, 610, 55, 21210, 21379, 37, 22, 55, 7, 22, 37, 20, 130, 22, 48, 102, 1492, 22, 20, 42, 14978, 22, 268, 22, 55, 257, 20]]\n"
     ]
    },
    {
     "name": "stderr",
     "output_type": "stream",
     "text": [
      "\n"
     ]
    },
    {
     "ename": "InvalidArgumentError",
     "evalue": "You must feed a value for placeholder tensor 'encoder/Placeholder' with dtype int32\n\t [[Node: encoder/Placeholder = Placeholder[dtype=DT_INT32, shape=[], _device=\"/job:localhost/replica:0/task:0/gpu:0\"]()]]\n\nCaused by op 'encoder/Placeholder', defined at:\n  File \"/usr/lib/python3.5/runpy.py\", line 184, in _run_module_as_main\n    \"__main__\", mod_spec)\n  File \"/usr/lib/python3.5/runpy.py\", line 85, in _run_code\n    exec(code, run_globals)\n  File \"/home/sayak/tensorflow/lib/python3.5/site-packages/ipykernel/__main__.py\", line 3, in <module>\n    app.launch_new_instance()\n  File \"/home/sayak/tensorflow/lib/python3.5/site-packages/traitlets/config/application.py\", line 658, in launch_instance\n    app.start()\n  File \"/home/sayak/tensorflow/lib/python3.5/site-packages/ipykernel/kernelapp.py\", line 474, in start\n    ioloop.IOLoop.instance().start()\n  File \"/home/sayak/tensorflow/lib/python3.5/site-packages/zmq/eventloop/ioloop.py\", line 177, in start\n    super(ZMQIOLoop, self).start()\n  File \"/home/sayak/tensorflow/lib/python3.5/site-packages/tornado/ioloop.py\", line 887, in start\n    handler_func(fd_obj, events)\n  File \"/home/sayak/tensorflow/lib/python3.5/site-packages/tornado/stack_context.py\", line 275, in null_wrapper\n    return fn(*args, **kwargs)\n  File \"/home/sayak/tensorflow/lib/python3.5/site-packages/zmq/eventloop/zmqstream.py\", line 440, in _handle_events\n    self._handle_recv()\n  File \"/home/sayak/tensorflow/lib/python3.5/site-packages/zmq/eventloop/zmqstream.py\", line 472, in _handle_recv\n    self._run_callback(callback, msg)\n  File \"/home/sayak/tensorflow/lib/python3.5/site-packages/zmq/eventloop/zmqstream.py\", line 414, in _run_callback\n    callback(*args, **kwargs)\n  File \"/home/sayak/tensorflow/lib/python3.5/site-packages/tornado/stack_context.py\", line 275, in null_wrapper\n    return fn(*args, **kwargs)\n  File \"/home/sayak/tensorflow/lib/python3.5/site-packages/ipykernel/kernelbase.py\", line 276, in dispatcher\n    return self.dispatch_shell(stream, msg)\n  File \"/home/sayak/tensorflow/lib/python3.5/site-packages/ipykernel/kernelbase.py\", line 228, in dispatch_shell\n    handler(stream, idents, msg)\n  File \"/home/sayak/tensorflow/lib/python3.5/site-packages/ipykernel/kernelbase.py\", line 390, in execute_request\n    user_expressions, allow_stdin)\n  File \"/home/sayak/tensorflow/lib/python3.5/site-packages/ipykernel/ipkernel.py\", line 196, in do_execute\n    res = shell.run_cell(code, store_history=store_history, silent=silent)\n  File \"/home/sayak/tensorflow/lib/python3.5/site-packages/ipykernel/zmqshell.py\", line 501, in run_cell\n    return super(ZMQInteractiveShell, self).run_cell(*args, **kwargs)\n  File \"/home/sayak/tensorflow/lib/python3.5/site-packages/IPython/core/interactiveshell.py\", line 2717, in run_cell\n    interactivity=interactivity, compiler=compiler, result=result)\n  File \"/home/sayak/tensorflow/lib/python3.5/site-packages/IPython/core/interactiveshell.py\", line 2821, in run_ast_nodes\n    if self.run_code(code, result):\n  File \"/home/sayak/tensorflow/lib/python3.5/site-packages/IPython/core/interactiveshell.py\", line 2881, in run_code\n    exec(code_obj, self.user_global_ns, self.user_ns)\n  File \"<ipython-input-13-334e20f529c3>\", line 2, in <module>\n    encoderInputs = [tf.placeholder(tf.int32, [None, ]) for _ in range(sentMaxLength)]\n  File \"<ipython-input-13-334e20f529c3>\", line 2, in <listcomp>\n    encoderInputs = [tf.placeholder(tf.int32, [None, ]) for _ in range(sentMaxLength)]\n  File \"/home/sayak/tensorflow/lib/python3.5/site-packages/tensorflow/python/ops/array_ops.py\", line 1502, in placeholder\n    name=name)\n  File \"/home/sayak/tensorflow/lib/python3.5/site-packages/tensorflow/python/ops/gen_array_ops.py\", line 2149, in _placeholder\n    name=name)\n  File \"/home/sayak/tensorflow/lib/python3.5/site-packages/tensorflow/python/framework/op_def_library.py\", line 763, in apply_op\n    op_def=op_def)\n  File \"/home/sayak/tensorflow/lib/python3.5/site-packages/tensorflow/python/framework/ops.py\", line 2327, in create_op\n    original_op=self._default_original_op, op_def=op_def)\n  File \"/home/sayak/tensorflow/lib/python3.5/site-packages/tensorflow/python/framework/ops.py\", line 1226, in __init__\n    self._traceback = _extract_stack()\n\nInvalidArgumentError (see above for traceback): You must feed a value for placeholder tensor 'encoder/Placeholder' with dtype int32\n\t [[Node: encoder/Placeholder = Placeholder[dtype=DT_INT32, shape=[], _device=\"/job:localhost/replica:0/task:0/gpu:0\"]()]]\n",
     "output_type": "error",
     "traceback": [
      "\u001b[0;31m---------------------------------------------------------------------------\u001b[0m",
      "\u001b[0;31mInvalidArgumentError\u001b[0m                      Traceback (most recent call last)",
      "\u001b[0;32m/home/sayak/tensorflow/lib/python3.5/site-packages/tensorflow/python/client/session.py\u001b[0m in \u001b[0;36m_do_call\u001b[0;34m(self, fn, *args)\u001b[0m\n\u001b[1;32m   1021\u001b[0m     \u001b[0;32mtry\u001b[0m\u001b[0;34m:\u001b[0m\u001b[0;34m\u001b[0m\u001b[0m\n\u001b[0;32m-> 1022\u001b[0;31m       \u001b[0;32mreturn\u001b[0m \u001b[0mfn\u001b[0m\u001b[0;34m(\u001b[0m\u001b[0;34m*\u001b[0m\u001b[0margs\u001b[0m\u001b[0;34m)\u001b[0m\u001b[0;34m\u001b[0m\u001b[0m\n\u001b[0m\u001b[1;32m   1023\u001b[0m     \u001b[0;32mexcept\u001b[0m \u001b[0merrors\u001b[0m\u001b[0;34m.\u001b[0m\u001b[0mOpError\u001b[0m \u001b[0;32mas\u001b[0m \u001b[0me\u001b[0m\u001b[0;34m:\u001b[0m\u001b[0;34m\u001b[0m\u001b[0m\n",
      "\u001b[0;32m/home/sayak/tensorflow/lib/python3.5/site-packages/tensorflow/python/client/session.py\u001b[0m in \u001b[0;36m_run_fn\u001b[0;34m(session, feed_dict, fetch_list, target_list, options, run_metadata)\u001b[0m\n\u001b[1;32m   1003\u001b[0m                                  \u001b[0mfeed_dict\u001b[0m\u001b[0;34m,\u001b[0m \u001b[0mfetch_list\u001b[0m\u001b[0;34m,\u001b[0m \u001b[0mtarget_list\u001b[0m\u001b[0;34m,\u001b[0m\u001b[0;34m\u001b[0m\u001b[0m\n\u001b[0;32m-> 1004\u001b[0;31m                                  status, run_metadata)\n\u001b[0m\u001b[1;32m   1005\u001b[0m \u001b[0;34m\u001b[0m\u001b[0m\n",
      "\u001b[0;32m/usr/lib/python3.5/contextlib.py\u001b[0m in \u001b[0;36m__exit__\u001b[0;34m(self, type, value, traceback)\u001b[0m\n\u001b[1;32m     65\u001b[0m             \u001b[0;32mtry\u001b[0m\u001b[0;34m:\u001b[0m\u001b[0;34m\u001b[0m\u001b[0m\n\u001b[0;32m---> 66\u001b[0;31m                 \u001b[0mnext\u001b[0m\u001b[0;34m(\u001b[0m\u001b[0mself\u001b[0m\u001b[0;34m.\u001b[0m\u001b[0mgen\u001b[0m\u001b[0;34m)\u001b[0m\u001b[0;34m\u001b[0m\u001b[0m\n\u001b[0m\u001b[1;32m     67\u001b[0m             \u001b[0;32mexcept\u001b[0m \u001b[0mStopIteration\u001b[0m\u001b[0;34m:\u001b[0m\u001b[0;34m\u001b[0m\u001b[0m\n",
      "\u001b[0;32m/home/sayak/tensorflow/lib/python3.5/site-packages/tensorflow/python/framework/errors_impl.py\u001b[0m in \u001b[0;36mraise_exception_on_not_ok_status\u001b[0;34m()\u001b[0m\n\u001b[1;32m    465\u001b[0m           \u001b[0mcompat\u001b[0m\u001b[0;34m.\u001b[0m\u001b[0mas_text\u001b[0m\u001b[0;34m(\u001b[0m\u001b[0mpywrap_tensorflow\u001b[0m\u001b[0;34m.\u001b[0m\u001b[0mTF_Message\u001b[0m\u001b[0;34m(\u001b[0m\u001b[0mstatus\u001b[0m\u001b[0;34m)\u001b[0m\u001b[0;34m)\u001b[0m\u001b[0;34m,\u001b[0m\u001b[0;34m\u001b[0m\u001b[0m\n\u001b[0;32m--> 466\u001b[0;31m           pywrap_tensorflow.TF_GetCode(status))\n\u001b[0m\u001b[1;32m    467\u001b[0m   \u001b[0;32mfinally\u001b[0m\u001b[0;34m:\u001b[0m\u001b[0;34m\u001b[0m\u001b[0m\n",
      "\u001b[0;31mInvalidArgumentError\u001b[0m: You must feed a value for placeholder tensor 'encoder/Placeholder' with dtype int32\n\t [[Node: encoder/Placeholder = Placeholder[dtype=DT_INT32, shape=[], _device=\"/job:localhost/replica:0/task:0/gpu:0\"]()]]",
      "\nDuring handling of the above exception, another exception occurred:\n",
      "\u001b[0;31mInvalidArgumentError\u001b[0m                      Traceback (most recent call last)",
      "\u001b[0;32m<ipython-input-51-f8b5d87ede3f>\u001b[0m in \u001b[0;36m<module>\u001b[0;34m()\u001b[0m\n\u001b[1;32m     27\u001b[0m             \u001b[0;32massert\u001b[0m \u001b[0mlen\u001b[0m\u001b[0;34m(\u001b[0m\u001b[0mops\u001b[0m\u001b[0;34m)\u001b[0m \u001b[0;34m==\u001b[0m \u001b[0;36m2\u001b[0m\u001b[0;34m\u001b[0m\u001b[0m\n\u001b[1;32m     28\u001b[0m             \u001b[0;31m#print(feedDict)\u001b[0m\u001b[0;34m\u001b[0m\u001b[0;34m\u001b[0m\u001b[0m\n\u001b[0;32m---> 29\u001b[0;31m             \u001b[0m_\u001b[0m\u001b[0;34m,\u001b[0m \u001b[0mloss\u001b[0m\u001b[0;34m,\u001b[0m \u001b[0msummary\u001b[0m \u001b[0;34m=\u001b[0m \u001b[0msess\u001b[0m\u001b[0;34m.\u001b[0m\u001b[0mrun\u001b[0m\u001b[0;34m(\u001b[0m\u001b[0mops\u001b[0m \u001b[0;34m+\u001b[0m \u001b[0;34m(\u001b[0m\u001b[0mcompleteSummary\u001b[0m\u001b[0;34m,\u001b[0m\u001b[0;34m)\u001b[0m\u001b[0;34m,\u001b[0m \u001b[0mfeedDict\u001b[0m\u001b[0;34m)\u001b[0m\u001b[0;34m\u001b[0m\u001b[0m\n\u001b[0m\u001b[1;32m     30\u001b[0m             \u001b[0mwriter\u001b[0m\u001b[0;34m.\u001b[0m\u001b[0madd_summary\u001b[0m\u001b[0;34m(\u001b[0m\u001b[0msummary\u001b[0m\u001b[0;34m,\u001b[0m \u001b[0mglobalStep\u001b[0m\u001b[0;34m)\u001b[0m\u001b[0;34m\u001b[0m\u001b[0m\n\u001b[1;32m     31\u001b[0m             \u001b[0mglobalStep\u001b[0m \u001b[0;34m+=\u001b[0m \u001b[0;36m1\u001b[0m\u001b[0;34m\u001b[0m\u001b[0m\n",
      "\u001b[0;32m/home/sayak/tensorflow/lib/python3.5/site-packages/tensorflow/python/client/session.py\u001b[0m in \u001b[0;36mrun\u001b[0;34m(self, fetches, feed_dict, options, run_metadata)\u001b[0m\n\u001b[1;32m    765\u001b[0m     \u001b[0;32mtry\u001b[0m\u001b[0;34m:\u001b[0m\u001b[0;34m\u001b[0m\u001b[0m\n\u001b[1;32m    766\u001b[0m       result = self._run(None, fetches, feed_dict, options_ptr,\n\u001b[0;32m--> 767\u001b[0;31m                          run_metadata_ptr)\n\u001b[0m\u001b[1;32m    768\u001b[0m       \u001b[0;32mif\u001b[0m \u001b[0mrun_metadata\u001b[0m\u001b[0;34m:\u001b[0m\u001b[0;34m\u001b[0m\u001b[0m\n\u001b[1;32m    769\u001b[0m         \u001b[0mproto_data\u001b[0m \u001b[0;34m=\u001b[0m \u001b[0mtf_session\u001b[0m\u001b[0;34m.\u001b[0m\u001b[0mTF_GetBuffer\u001b[0m\u001b[0;34m(\u001b[0m\u001b[0mrun_metadata_ptr\u001b[0m\u001b[0;34m)\u001b[0m\u001b[0;34m\u001b[0m\u001b[0m\n",
      "\u001b[0;32m/home/sayak/tensorflow/lib/python3.5/site-packages/tensorflow/python/client/session.py\u001b[0m in \u001b[0;36m_run\u001b[0;34m(self, handle, fetches, feed_dict, options, run_metadata)\u001b[0m\n\u001b[1;32m    963\u001b[0m     \u001b[0;32mif\u001b[0m \u001b[0mfinal_fetches\u001b[0m \u001b[0;32mor\u001b[0m \u001b[0mfinal_targets\u001b[0m\u001b[0;34m:\u001b[0m\u001b[0;34m\u001b[0m\u001b[0m\n\u001b[1;32m    964\u001b[0m       results = self._do_run(handle, final_targets, final_fetches,\n\u001b[0;32m--> 965\u001b[0;31m                              feed_dict_string, options, run_metadata)\n\u001b[0m\u001b[1;32m    966\u001b[0m     \u001b[0;32melse\u001b[0m\u001b[0;34m:\u001b[0m\u001b[0;34m\u001b[0m\u001b[0m\n\u001b[1;32m    967\u001b[0m       \u001b[0mresults\u001b[0m \u001b[0;34m=\u001b[0m \u001b[0;34m[\u001b[0m\u001b[0;34m]\u001b[0m\u001b[0;34m\u001b[0m\u001b[0m\n",
      "\u001b[0;32m/home/sayak/tensorflow/lib/python3.5/site-packages/tensorflow/python/client/session.py\u001b[0m in \u001b[0;36m_do_run\u001b[0;34m(self, handle, target_list, fetch_list, feed_dict, options, run_metadata)\u001b[0m\n\u001b[1;32m   1013\u001b[0m     \u001b[0;32mif\u001b[0m \u001b[0mhandle\u001b[0m \u001b[0;32mis\u001b[0m \u001b[0;32mNone\u001b[0m\u001b[0;34m:\u001b[0m\u001b[0;34m\u001b[0m\u001b[0m\n\u001b[1;32m   1014\u001b[0m       return self._do_call(_run_fn, self._session, feed_dict, fetch_list,\n\u001b[0;32m-> 1015\u001b[0;31m                            target_list, options, run_metadata)\n\u001b[0m\u001b[1;32m   1016\u001b[0m     \u001b[0;32melse\u001b[0m\u001b[0;34m:\u001b[0m\u001b[0;34m\u001b[0m\u001b[0m\n\u001b[1;32m   1017\u001b[0m       return self._do_call(_prun_fn, self._session, handle, feed_dict,\n",
      "\u001b[0;32m/home/sayak/tensorflow/lib/python3.5/site-packages/tensorflow/python/client/session.py\u001b[0m in \u001b[0;36m_do_call\u001b[0;34m(self, fn, *args)\u001b[0m\n\u001b[1;32m   1033\u001b[0m         \u001b[0;32mexcept\u001b[0m \u001b[0mKeyError\u001b[0m\u001b[0;34m:\u001b[0m\u001b[0;34m\u001b[0m\u001b[0m\n\u001b[1;32m   1034\u001b[0m           \u001b[0;32mpass\u001b[0m\u001b[0;34m\u001b[0m\u001b[0m\n\u001b[0;32m-> 1035\u001b[0;31m       \u001b[0;32mraise\u001b[0m \u001b[0mtype\u001b[0m\u001b[0;34m(\u001b[0m\u001b[0me\u001b[0m\u001b[0;34m)\u001b[0m\u001b[0;34m(\u001b[0m\u001b[0mnode_def\u001b[0m\u001b[0;34m,\u001b[0m \u001b[0mop\u001b[0m\u001b[0;34m,\u001b[0m \u001b[0mmessage\u001b[0m\u001b[0;34m)\u001b[0m\u001b[0;34m\u001b[0m\u001b[0m\n\u001b[0m\u001b[1;32m   1036\u001b[0m \u001b[0;34m\u001b[0m\u001b[0m\n\u001b[1;32m   1037\u001b[0m   \u001b[0;32mdef\u001b[0m \u001b[0m_extend_graph\u001b[0m\u001b[0;34m(\u001b[0m\u001b[0mself\u001b[0m\u001b[0;34m)\u001b[0m\u001b[0;34m:\u001b[0m\u001b[0;34m\u001b[0m\u001b[0m\n",
      "\u001b[0;31mInvalidArgumentError\u001b[0m: You must feed a value for placeholder tensor 'encoder/Placeholder' with dtype int32\n\t [[Node: encoder/Placeholder = Placeholder[dtype=DT_INT32, shape=[], _device=\"/job:localhost/replica:0/task:0/gpu:0\"]()]]\n\nCaused by op 'encoder/Placeholder', defined at:\n  File \"/usr/lib/python3.5/runpy.py\", line 184, in _run_module_as_main\n    \"__main__\", mod_spec)\n  File \"/usr/lib/python3.5/runpy.py\", line 85, in _run_code\n    exec(code, run_globals)\n  File \"/home/sayak/tensorflow/lib/python3.5/site-packages/ipykernel/__main__.py\", line 3, in <module>\n    app.launch_new_instance()\n  File \"/home/sayak/tensorflow/lib/python3.5/site-packages/traitlets/config/application.py\", line 658, in launch_instance\n    app.start()\n  File \"/home/sayak/tensorflow/lib/python3.5/site-packages/ipykernel/kernelapp.py\", line 474, in start\n    ioloop.IOLoop.instance().start()\n  File \"/home/sayak/tensorflow/lib/python3.5/site-packages/zmq/eventloop/ioloop.py\", line 177, in start\n    super(ZMQIOLoop, self).start()\n  File \"/home/sayak/tensorflow/lib/python3.5/site-packages/tornado/ioloop.py\", line 887, in start\n    handler_func(fd_obj, events)\n  File \"/home/sayak/tensorflow/lib/python3.5/site-packages/tornado/stack_context.py\", line 275, in null_wrapper\n    return fn(*args, **kwargs)\n  File \"/home/sayak/tensorflow/lib/python3.5/site-packages/zmq/eventloop/zmqstream.py\", line 440, in _handle_events\n    self._handle_recv()\n  File \"/home/sayak/tensorflow/lib/python3.5/site-packages/zmq/eventloop/zmqstream.py\", line 472, in _handle_recv\n    self._run_callback(callback, msg)\n  File \"/home/sayak/tensorflow/lib/python3.5/site-packages/zmq/eventloop/zmqstream.py\", line 414, in _run_callback\n    callback(*args, **kwargs)\n  File \"/home/sayak/tensorflow/lib/python3.5/site-packages/tornado/stack_context.py\", line 275, in null_wrapper\n    return fn(*args, **kwargs)\n  File \"/home/sayak/tensorflow/lib/python3.5/site-packages/ipykernel/kernelbase.py\", line 276, in dispatcher\n    return self.dispatch_shell(stream, msg)\n  File \"/home/sayak/tensorflow/lib/python3.5/site-packages/ipykernel/kernelbase.py\", line 228, in dispatch_shell\n    handler(stream, idents, msg)\n  File \"/home/sayak/tensorflow/lib/python3.5/site-packages/ipykernel/kernelbase.py\", line 390, in execute_request\n    user_expressions, allow_stdin)\n  File \"/home/sayak/tensorflow/lib/python3.5/site-packages/ipykernel/ipkernel.py\", line 196, in do_execute\n    res = shell.run_cell(code, store_history=store_history, silent=silent)\n  File \"/home/sayak/tensorflow/lib/python3.5/site-packages/ipykernel/zmqshell.py\", line 501, in run_cell\n    return super(ZMQInteractiveShell, self).run_cell(*args, **kwargs)\n  File \"/home/sayak/tensorflow/lib/python3.5/site-packages/IPython/core/interactiveshell.py\", line 2717, in run_cell\n    interactivity=interactivity, compiler=compiler, result=result)\n  File \"/home/sayak/tensorflow/lib/python3.5/site-packages/IPython/core/interactiveshell.py\", line 2821, in run_ast_nodes\n    if self.run_code(code, result):\n  File \"/home/sayak/tensorflow/lib/python3.5/site-packages/IPython/core/interactiveshell.py\", line 2881, in run_code\n    exec(code_obj, self.user_global_ns, self.user_ns)\n  File \"<ipython-input-13-334e20f529c3>\", line 2, in <module>\n    encoderInputs = [tf.placeholder(tf.int32, [None, ]) for _ in range(sentMaxLength)]\n  File \"<ipython-input-13-334e20f529c3>\", line 2, in <listcomp>\n    encoderInputs = [tf.placeholder(tf.int32, [None, ]) for _ in range(sentMaxLength)]\n  File \"/home/sayak/tensorflow/lib/python3.5/site-packages/tensorflow/python/ops/array_ops.py\", line 1502, in placeholder\n    name=name)\n  File \"/home/sayak/tensorflow/lib/python3.5/site-packages/tensorflow/python/ops/gen_array_ops.py\", line 2149, in _placeholder\n    name=name)\n  File \"/home/sayak/tensorflow/lib/python3.5/site-packages/tensorflow/python/framework/op_def_library.py\", line 763, in apply_op\n    op_def=op_def)\n  File \"/home/sayak/tensorflow/lib/python3.5/site-packages/tensorflow/python/framework/ops.py\", line 2327, in create_op\n    original_op=self._default_original_op, op_def=op_def)\n  File \"/home/sayak/tensorflow/lib/python3.5/site-packages/tensorflow/python/framework/ops.py\", line 1226, in __init__\n    self._traceback = _extract_stack()\n\nInvalidArgumentError (see above for traceback): You must feed a value for placeholder tensor 'encoder/Placeholder' with dtype int32\n\t [[Node: encoder/Placeholder = Placeholder[dtype=DT_INT32, shape=[], _device=\"/job:localhost/replica:0/task:0/gpu:0\"]()]]\n"
     ]
    }
   ],
   "source": [
    "# Training Loop\n",
    "completeSummary = tf.summary.merge_all()\n",
    "if globalStep == 0:\n",
    "    writer.add_graph(sess.graph)\n",
    "try:\n",
    "    for epoch in range(numOfEpochs):\n",
    "        print(\"\\nEpoch {}\".format(epoch+1))\n",
    "        random.shuffle(trainingSamples)\n",
    "        \n",
    "        batches = []\n",
    "        for samples in generateNextSample():\n",
    "            #print(samples)\n",
    "            batch = makeBatch(samples)\n",
    "            batches.append(batch)\n",
    "        \n",
    "        for batch in tqdm(batches, desc=\"Training\"):\n",
    "            print(batch.encoderSeqs)\n",
    "            feedDict = {}\n",
    "            ops = None\n",
    "            for i in range(encoderMaxLength):\n",
    "                feedDict[encoderInputs[i]] = batch.encoderSeqs[i]\n",
    "            for i in range(decoderMaxLength):\n",
    "                feedDict[decoderInputs[i]] = batch.decoderSeqs[i]\n",
    "                feedDict[decoderTargets[i]] = batch.targetSeqs[i]\n",
    "                feedDict[decoderWeights[i]] = batch.weights[i]\n",
    "            ops = (optimizationOperation, lossFunc)\n",
    "            assert len(ops) == 2\n",
    "            #print(feedDict)\n",
    "            _, loss, summary = sess.run(ops + (completeSummary,), feedDict)\n",
    "            writer.add_summary(summary, globalStep)\n",
    "            globalStep += 1\n",
    "            if globalStep % 100 == 0:\n",
    "                perplexity = math.exp(float(loss))\n",
    "                print(\"Step %d \" % (globalStep))\n",
    "                print(\"Loss %.2f\" % (loss))\n",
    "                print(\"Perplexity %.2f\" % (perplexity))\n",
    "            if globalStep % 10 == 0:\n",
    "                saveModel()\n",
    "except (KeyboardInterrupt, SystemExit):\n",
    "    print('Exiting')\n",
    "saveModel()\n",
    "sess.close()"
   ]
  },
  {
   "cell_type": "code",
   "execution_count": 28,
   "metadata": {
    "collapsed": false,
    "deletable": true,
    "editable": true,
    "scrolled": true
   },
   "outputs": [
    {
     "name": "stdout",
     "output_type": "stream",
     "text": [
      "Restoring model model_30.ckpt\n",
      "Welcome to DeepChat! I am Alex. You can ask me questions and ponder on the answers I provide.\n",
      "Type 'exit' to end the chat.\n",
      "You: hello\n",
      "Alex: I\n",
      "\n",
      "You: i what?\n",
      "Alex: I\n",
      "\n",
      "You: exit\n"
     ]
    }
   ],
   "source": [
    "saved_model_dir = 'saved_model'\n",
    "model_name = 'model_30.ckpt'\n",
    "if os.path.exists(os.path.join(cwd, saved_model_dir, model_name)):\n",
    "    print('Restoring model {}'.format(model_name))\n",
    "    saver.restore(sess, os.path.join(cwd, saved_model_dir, model_name))\n",
    "    print('Welcome to DeepChat! I am Alex. You can ask me questions and ponder on the answers I provide.')\n",
    "    print('Type \\'exit\\' to end the chat.')\n",
    "    while True:\n",
    "        user_input = input('You: ')\n",
    "        if user_input == '':\n",
    "            print('Alex: Please say something! I don\\'t like silence!')\n",
    "        if user_input == 'exit':\n",
    "            break\n",
    "        inputSequence = []\n",
    "        tokens = nltk.word_tokenize(user_input)\n",
    "        if len(tokens) > sentMaxLength:\n",
    "            print('I didn\\'t understand! Please try a smaller sentence')\n",
    "            continue\n",
    "        wordIDs = []\n",
    "        for token in tokens:\n",
    "            wordIDs.append(getWordID(token, shouldAddToDict=False))\n",
    "        batch = makeBatch([[wordIDs,[]]])\n",
    "        inputSequence.extend(batch.encoderSeqs)\n",
    "        feedDict = {}\n",
    "        ops = None\n",
    "        for i in range(encoderMaxLength):\n",
    "            feedDict[encoderInputs[i]] = batch.encoderSeqs[i]\n",
    "        feedDict[decoderInputs[0]] = [goToken]\n",
    "        #print('decoderOutput {}'.format(decoderOutput))\n",
    "        ops = (decoderOutput,)\n",
    "        outputs = sess.run(ops[0], feedDict)\n",
    "        outputSequence = []\n",
    "        for output in outputs:\n",
    "            outputSequence.append(np.argmax(output))\n",
    "        #print('outputSequence {}'.format(outputSequence))\n",
    "        responseTokens = []\n",
    "        for wordID in outputSequence:\n",
    "            if wordID == eosToken:\n",
    "                break\n",
    "            elif wordID != padToken and wordID != goToken:\n",
    "                responseTokens.append(IDWordMap[wordID])\n",
    "        #print('responseTokens {}'.format(responseTokens))\n",
    "        response = \"\"\n",
    "        responseTokens = [t.replace(t, ' ' + t) if not t.startswith('\\'') and t not in string.punctuation else t for t in responseTokens]\n",
    "        #print('responseTokens after replace {}'.format(responseTokens))\n",
    "        response = ''.join(responseTokens).strip().capitalize()\n",
    "        print('Alex: ' + response)\n",
    "        print()"
   ]
  }
 ],
 "metadata": {
  "kernelspec": {
   "display_name": "Python 3",
   "language": "python",
   "name": "python3"
  },
  "language_info": {
   "codemirror_mode": {
    "name": "ipython",
    "version": 3
   },
   "file_extension": ".py",
   "mimetype": "text/x-python",
   "name": "python",
   "nbconvert_exporter": "python",
   "pygments_lexer": "ipython3",
   "version": "3.5.2"
  }
 },
 "nbformat": 4,
 "nbformat_minor": 2
}
