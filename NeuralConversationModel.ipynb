{
 "cells": [
  {
   "cell_type": "code",
   "execution_count": 1,
   "metadata": {
    "collapsed": false,
    "deletable": true,
    "editable": true
   },
   "outputs": [],
   "source": [
    "import numpy as np\n",
    "import nltk\n",
    "import os\n",
    "import ast\n",
    "import pickle\n",
    "import tensorflow as tf"
   ]
  },
  {
   "cell_type": "code",
   "execution_count": 2,
   "metadata": {
    "collapsed": false,
    "deletable": true,
    "editable": true
   },
   "outputs": [],
   "source": [
    "cwd = os.getcwd()\n",
    "#print(cwd)\n",
    "corpusDir = os.path.join(cwd, 'data/cornell')\n",
    "#print(corpusDir)"
   ]
  },
  {
   "cell_type": "code",
   "execution_count": 3,
   "metadata": {
    "collapsed": false,
    "deletable": true,
    "editable": true
   },
   "outputs": [],
   "source": [
    "lines = {}\n",
    "with open(os.path.join(corpusDir, 'movie_lines.txt'), 'r', encoding='iso-8859-1') as f:\n",
    "    for line in f:\n",
    "        #print(line)\n",
    "        fields = line.split(' +++$+++ ')\n",
    "        #print(fields)\n",
    "        obj = {}\n",
    "        obj['lineID'] = fields[0]\n",
    "        obj['characterID'] = fields[1]\n",
    "        obj['movieID'] = fields[2]\n",
    "        obj['characterName'] = fields[3]\n",
    "        obj['text'] = fields[4]\n",
    "        lines[fields[0]] = obj\n",
    "#print(lines)"
   ]
  },
  {
   "cell_type": "code",
   "execution_count": 4,
   "metadata": {
    "collapsed": false,
    "deletable": true,
    "editable": true
   },
   "outputs": [],
   "source": [
    "conversations = []\n",
    "with open(os.path.join(corpusDir, 'movie_conversations.txt'), 'r', encoding='iso-8859-1') as f:\n",
    "    for line in f:\n",
    "        #print(line)\n",
    "        fields = line.split(' +++$+++ ')\n",
    "        #print(fields)\n",
    "        obj = {}\n",
    "        obj['character1ID'] = fields[0]\n",
    "        obj['character2ID'] = fields[1]\n",
    "        obj['movieID'] = fields[2]\n",
    "        #obj['lineIDs'] = fields[3]\n",
    "        #print(obj)\n",
    "        lineIDs = ast.literal_eval(fields[3])\n",
    "        #print(lineIDs)\n",
    "        obj['lineIDs'] = lineIDs\n",
    "        #print(obj)\n",
    "        obj['lines'] = []\n",
    "        for lineID in lineIDs:\n",
    "            #print(lineID, \"--\", lines[lineID])\n",
    "            obj['lines'].append(lines[lineID])\n",
    "        conversations.append(obj)\n",
    "#print(conversations)"
   ]
  },
  {
   "cell_type": "code",
   "execution_count": 5,
   "metadata": {
    "collapsed": true,
    "deletable": true,
    "editable": true
   },
   "outputs": [],
   "source": [
    "wordIDMap = {}\n",
    "IDWordMap = {}\n",
    "unknownToken = -1\n",
    "trainingSamples = []"
   ]
  },
  {
   "cell_type": "code",
   "execution_count": 6,
   "metadata": {
    "collapsed": true,
    "deletable": true,
    "editable": true
   },
   "outputs": [],
   "source": [
    "def getWordID(word, shouldAddToDict=True):\n",
    "    word = word.lower()\n",
    "    wordID = wordIDMap.get(word, -1)\n",
    "    if wordID == -1:\n",
    "        if shouldAddToDict:\n",
    "            wordID = len(wordIDMap)\n",
    "            wordIDMap[word] = wordID\n",
    "            IDWordMap[wordID] = word\n",
    "        else:\n",
    "            wordID = unknownToken\n",
    "    return wordID"
   ]
  },
  {
   "cell_type": "code",
   "execution_count": 7,
   "metadata": {
    "collapsed": false,
    "deletable": true,
    "editable": true
   },
   "outputs": [],
   "source": [
    "sentMaxLength = 10 #maximum length of an input or output sentence\n",
    "def getWordsFromLine(line, isReply=False):\n",
    "    '''Returns the word IDs from the vovabulary'''\n",
    "    words = []\n",
    "    sentences = nltk.sent_tokenize(line)\n",
    "    #print(sentences)\n",
    "    # Since we are limited by a maxmimum length of sentences, we keep the last lines if the statement is a question/input\n",
    "    # and the first few lines if the statement is an answer/reply\n",
    "    for i in range(len(sentences)):\n",
    "        if not isReply:\n",
    "            i = len(sentences) - 1 - i\n",
    "        tokensFromCurrSent = nltk.word_tokenize(sentences[i])\n",
    "        #print(tokensFromCurrSent)\n",
    "        if len(words) + len(tokensFromCurrSent) > sentMaxLength:\n",
    "            break\n",
    "        else:\n",
    "            temp = []\n",
    "            for token in tokensFromCurrSent:\n",
    "                temp.append(getWordID(token))\n",
    "            if isReply:\n",
    "                words = words + temp\n",
    "            else:\n",
    "                words = temp + words # Append in the reverse order because we're considering the last few lines\n",
    "    return words"
   ]
  },
  {
   "cell_type": "code",
   "execution_count": 8,
   "metadata": {
    "collapsed": true,
    "deletable": true,
    "editable": true
   },
   "outputs": [],
   "source": [
    "for conversation in conversations:\n",
    "    #print(conversation)\n",
    "    for i in range(len(conversation['lines']) - 1):\n",
    "        #print(conversation['lines'][i])\n",
    "        inputStatement = conversation['lines'][i]\n",
    "        #print(inputStatement)\n",
    "        replyStatement = conversation['lines'][i + 1]\n",
    "        inputWords = getWordsFromLine(inputStatement['text'])\n",
    "        replyWords = getWordsFromLine(replyStatement['text'], True)\n",
    "        #print(inputWords)\n",
    "        #print(replyWords)\n",
    "        \n",
    "        if inputWords and replyWords:\n",
    "            trainingSamples.append([inputWords, replyWords])\n",
    "#print(trainingSamples)"
   ]
  },
  {
   "cell_type": "code",
   "execution_count": 9,
   "metadata": {
    "collapsed": false,
    "deletable": true,
    "editable": true
   },
   "outputs": [
    {
     "name": "stdout",
     "output_type": "stream",
     "text": [
      "Saving dataset samples ...\n",
      "Done\n"
     ]
    }
   ],
   "source": [
    "print(\"Saving dataset samples ...\")\n",
    "with open(os.path.join(cwd, 'data/samples', 'sampleData.pkl'), 'wb') as f:\n",
    "    data = {\n",
    "        'wordIDMap': wordIDMap,\n",
    "        'IDWordMap': IDWordMap,\n",
    "        'trainingSamples': trainingSamples\n",
    "    }\n",
    "    pickle.dump(data, f, -1)\n",
    "print('Done')"
   ]
  },
  {
   "cell_type": "code",
   "execution_count": 26,
   "metadata": {
    "collapsed": true,
    "deletable": true,
    "editable": true
   },
   "outputs": [],
   "source": [
    "#Parameters\n",
    "globalStep = 85\n",
    "cellUnitCount = 512\n",
    "numOfLayers = 2\n",
    "embeddingSize = 64\n",
    "learningRate = 0.02\n",
    "batchSize = 256\n",
    "dropout = 0.9\n",
    "softmaxSamples = 0\n",
    "numOfEpochs = 2"
   ]
  },
  {
   "cell_type": "code",
   "execution_count": 11,
   "metadata": {
    "collapsed": true,
    "deletable": true,
    "editable": true
   },
   "outputs": [],
   "source": [
    "def make_lstm_cell():\n",
    "    encoderDecoderCell = tf.contrib.rnn.BasicLSTMCell(cellUnitCount)\n",
    "    encoderDecoderCell = tf.contrib.rnn.DropoutWrapper(encoderDecoderCell, input_keep_prob=1.0, output_keep_prob=dropout)\n",
    "    return encoderDecoderCell"
   ]
  },
  {
   "cell_type": "code",
   "execution_count": 12,
   "metadata": {
    "collapsed": false,
    "deletable": true,
    "editable": true
   },
   "outputs": [],
   "source": [
    "#Expand the list comprehension below\n",
    "encoderDecoderCell = tf.contrib.rnn.MultiRNNCell(\n",
    "    [make_lstm_cell() for _ in range(numOfLayers)],\n",
    ")"
   ]
  },
  {
   "cell_type": "code",
   "execution_count": 13,
   "metadata": {
    "collapsed": true,
    "deletable": true,
    "editable": true
   },
   "outputs": [],
   "source": [
    "with tf.name_scope('encoder'):\n",
    "    encoderInputs = [tf.placeholder(tf.int32, [None, ]) for _ in range(sentMaxLength)]\n",
    "with tf.name_scope('decoder'):\n",
    "    decoderInputs = [tf.placeholder(tf.int32, [None, ], name=\"inputs\") for _ in range(sentMaxLength + 2)]\n",
    "    decoderTargets = [tf.placeholder(tf.int32, [None, ], name=\"targets\") for _ in range(sentMaxLength + 2)]\n",
    "    decoderWeights = [tf.placeholder(tf.float32, [None, ], name=\"weights\") for _ in range(sentMaxLength + 2)]"
   ]
  },
  {
   "cell_type": "code",
   "execution_count": 14,
   "metadata": {
    "collapsed": false,
    "deletable": true,
    "editable": true
   },
   "outputs": [],
   "source": [
    "#Verify this - is different from the existing\n",
    "decoderOutput, state = tf.contrib.legacy_seq2seq.embedding_rnn_seq2seq(\n",
    "    encoderInputs,\n",
    "    decoderInputs,\n",
    "    encoderDecoderCell,\n",
    "    len(wordIDMap),\n",
    "    len(wordIDMap),\n",
    "    embeddingSize,\n",
    "    output_projection=None,\n",
    "    feed_previous=False\n",
    ")"
   ]
  },
  {
   "cell_type": "code",
   "execution_count": 15,
   "metadata": {
    "collapsed": false,
    "deletable": true,
    "editable": true
   },
   "outputs": [
    {
     "data": {
      "text/plain": [
       "<tf.Tensor 'loss:0' shape=() dtype=string>"
      ]
     },
     "execution_count": 15,
     "metadata": {},
     "output_type": "execute_result"
    }
   ],
   "source": [
    "lossFunc = tf.contrib.legacy_seq2seq.sequence_loss(\n",
    "    decoderOutput,\n",
    "    decoderTargets,\n",
    "    decoderWeights,\n",
    "    len(wordIDMap),\n",
    "    softmax_loss_function=None\n",
    ")\n",
    "tf.summary.scalar('loss', lossFunc)"
   ]
  },
  {
   "cell_type": "code",
   "execution_count": 16,
   "metadata": {
    "collapsed": true,
    "deletable": true,
    "editable": true
   },
   "outputs": [],
   "source": [
    "optimizer = tf.train.AdamOptimizer(\n",
    "    learning_rate=learningRate,\n",
    "    beta1=0.9,\n",
    "    beta2=0.999,\n",
    "    epsilon=1e-08\n",
    ")\n",
    "optimizationOperation = optimizer.minimize(lossFunc)"
   ]
  },
  {
   "cell_type": "code",
   "execution_count": 17,
   "metadata": {
    "collapsed": false,
    "deletable": true,
    "editable": true
   },
   "outputs": [],
   "source": [
    "writer = tf.summary.FileWriter('seq2seq')\n",
    "saver = tf.train.Saver(max_to_keep=200)"
   ]
  },
  {
   "cell_type": "code",
   "execution_count": 18,
   "metadata": {
    "collapsed": true,
    "deletable": true,
    "editable": true
   },
   "outputs": [],
   "source": [
    "sess = tf.Session(\n",
    "    config=tf.ConfigProto(\n",
    "        allow_soft_placement=True,\n",
    "        log_device_placement=False\n",
    "    )\n",
    ")\n",
    "sess.run(tf.global_variables_initializer())"
   ]
  },
  {
   "cell_type": "code",
   "execution_count": 19,
   "metadata": {
    "collapsed": false,
    "deletable": true,
    "editable": true,
    "scrolled": false
   },
   "outputs": [
    {
     "data": {
      "text/plain": [
       "'\\nif globalStep != 0:\\n    return\\n'"
      ]
     },
     "execution_count": 19,
     "metadata": {},
     "output_type": "execute_result"
    }
   ],
   "source": [
    "#Change variable scope name\n",
    "with tf.variable_scope(\"embedding_rnn_seq2seq/rnn/embedding_wrapper\", reuse=True):\n",
    "    in_embedding = tf.get_variable(\"embedding\")\n",
    "with tf.variable_scope(\"embedding_rnn_seq2seq/embedding_rnn_decoder\", reuse=True):\n",
    "    out_embedding = tf.get_variable(\"embedding\")\n",
    "\n",
    "embedding_vars = tf.get_collection_ref(tf.GraphKeys.TRAINABLE_VARIABLES)\n",
    "embedding_vars.remove(in_embedding)\n",
    "embedding_vars.remove(out_embedding)\n",
    "\n",
    "'''\n",
    "if globalStep != 0:\n",
    "    return\n",
    "'''"
   ]
  },
  {
   "cell_type": "code",
   "execution_count": 20,
   "metadata": {
    "collapsed": false,
    "deletable": true,
    "editable": true,
    "scrolled": true
   },
   "outputs": [],
   "source": [
    "with open(os.path.join(cwd, 'data/word2vec/GoogleNews-vectors-negative300.bin'), \"rb\", 0) as f:\n",
    "    header = f.readline().split()\n",
    "    #print(header)\n",
    "    vocabulary_size = int(header[0])\n",
    "    word_vector_size = int(header[1])\n",
    "    #print('{}, {}'.format(vocabulary_size, word_vector_size))\n",
    "    binary_length = np.dtype('float32').itemsize * word_vector_size\n",
    "    #print(binary_length)\n",
    "    initial_weights = np.random.uniform(-0.25, 0.25, (len(wordIDMap), word_vector_size))\n",
    "    #print(initial_weights)\n",
    "    for line in range(word_vector_size):\n",
    "        word = []\n",
    "        while True:\n",
    "            ch = f.read(1)\n",
    "            if ch == b' ':\n",
    "                word = b''.join(word).decode('utf-8')\n",
    "                break\n",
    "            if ch != b'\\n':\n",
    "                word.append(ch)\n",
    "        if word in wordIDMap:\n",
    "            initial_weights[wordIDMap[word]] = np.fromstring(f.read(binary_length), dtype='float32')\n",
    "        else:\n",
    "            f.read(binary_length)"
   ]
  },
  {
   "cell_type": "code",
   "execution_count": 22,
   "metadata": {
    "collapsed": false,
    "deletable": true,
    "editable": true
   },
   "outputs": [],
   "source": [
    "if embeddingSize < word_vector_size:\n",
    "    u, s, vt = np.linalg.svd(initial_weights, full_matrices=False)\n",
    "    S = np.zeros((word_vector_size, word_vector_size), dtype=complex)\n",
    "    S[:word_vector_size, :word_vector_size] = np.diag(s)\n",
    "    initial_weights = np.dot(u[:, :embeddingSize], S[:embeddingSize, :embeddingSize])"
   ]
  },
  {
   "cell_type": "code",
   "execution_count": 24,
   "metadata": {
    "collapsed": false,
    "deletable": true,
    "editable": true
   },
   "outputs": [
    {
     "name": "stderr",
     "output_type": "stream",
     "text": [
      "/home/sayak/tensorflow/lib/python3.5/site-packages/tensorflow/python/framework/tensor_util.py:355: ComplexWarning: Casting complex values to real discards the imaginary part\n",
      "  nparray = values.astype(dtype.as_numpy_dtype)\n"
     ]
    },
    {
     "data": {
      "text/plain": [
       "array([[-0.17497189,  0.08382086, -0.21435362, ..., -0.24129339,\n",
       "        -0.13139173,  0.07692711],\n",
       "       [ 0.01261107,  0.16364564, -0.01029418, ...,  0.10298157,\n",
       "         0.00581025, -0.3824569 ],\n",
       "       [-1.01499653, -0.02368017, -0.03042284, ...,  0.11483486,\n",
       "        -0.0952372 , -0.04259831],\n",
       "       ..., \n",
       "       [ 0.23830926,  0.01303515, -0.12217104, ...,  0.13139679,\n",
       "         0.16677408,  0.12845004],\n",
       "       [ 0.03763761, -0.02055097,  0.1881436 , ..., -0.05456485,\n",
       "         0.12875545, -0.13027368],\n",
       "       [-0.18655382, -0.07312303,  0.1639518 , ..., -0.31941018,\n",
       "        -0.22006141,  0.12561569]], dtype=float32)"
      ]
     },
     "execution_count": 24,
     "metadata": {},
     "output_type": "execute_result"
    }
   ],
   "source": [
    "sess.run(in_embedding.assign(initial_weights))\n",
    "sess.run(out_embedding.assign(initial_weights))"
   ]
  },
  {
   "cell_type": "code",
   "execution_count": 29,
   "metadata": {
    "collapsed": false
   },
   "outputs": [
    {
     "ename": "SyntaxError",
     "evalue": "unexpected EOF while parsing (<ipython-input-29-a7ab57ab01c3>, line 7)",
     "output_type": "error",
     "traceback": [
      "\u001b[0;36m  File \u001b[0;32m\"<ipython-input-29-a7ab57ab01c3>\"\u001b[0;36m, line \u001b[0;32m7\u001b[0m\n\u001b[0;31m    print(\"Epoch {}\".format(epoch+1))\u001b[0m\n\u001b[0m                                     ^\u001b[0m\n\u001b[0;31mSyntaxError\u001b[0m\u001b[0;31m:\u001b[0m unexpected EOF while parsing\n"
     ]
    }
   ],
   "source": [
    "# Training Loop\n",
    "completeSummary = tf.summary.merge_all()\n",
    "if globalStep == 0:\n",
    "    writer.add_graph(sess.graph)\n",
    "try:\n",
    "    for epoch in range(numOfEpochs):\n",
    "        print(\"\\nEpoch {}\".format(epoch+1))\n",
    "        random.shuffle(trainingSamples)"
   ]
  }
 ],
 "metadata": {
  "kernelspec": {
   "display_name": "Python 3",
   "language": "python",
   "name": "python3"
  },
  "language_info": {
   "codemirror_mode": {
    "name": "ipython",
    "version": 3
   },
   "file_extension": ".py",
   "mimetype": "text/x-python",
   "name": "python",
   "nbconvert_exporter": "python",
   "pygments_lexer": "ipython3",
   "version": "3.5.2"
  }
 },
 "nbformat": 4,
 "nbformat_minor": 2
}
