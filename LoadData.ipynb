{
 "cells": [
  {
   "cell_type": "code",
   "execution_count": 28,
   "metadata": {
    "collapsed": true,
    "deletable": true,
    "editable": true
   },
   "outputs": [],
   "source": [
    "import numpy as np\n",
    "import nltk\n",
    "import os\n",
    "import ast\n",
    "import pickle"
   ]
  },
  {
   "cell_type": "code",
   "execution_count": 17,
   "metadata": {
    "collapsed": false,
    "deletable": true,
    "editable": true
   },
   "outputs": [],
   "source": [
    "cwd = os.getcwd()\n",
    "#print(cwd)\n",
    "corpusDir = os.path.join(cwd, 'data/lightweight')\n",
    "#print(corpusDir)"
   ]
  },
  {
   "cell_type": "code",
   "execution_count": 18,
   "metadata": {
    "collapsed": false,
    "deletable": true,
    "editable": true
   },
   "outputs": [],
   "source": [
    "lines = {}\n",
    "with open(os.path.join(corpusDir, 'movie_lines.txt'), 'r', encoding='iso-8859-1') as f:\n",
    "    for line in f:\n",
    "        #print(line)\n",
    "        fields = line.split(' +++$+++ ')\n",
    "        #print(fields)\n",
    "        obj = {}\n",
    "        obj['lineID'] = fields[0]\n",
    "        obj['characterID'] = fields[1]\n",
    "        obj['movieID'] = fields[2]\n",
    "        obj['characterName'] = fields[3]\n",
    "        obj['text'] = fields[4]\n",
    "        lines[fields[0]] = obj\n",
    "#print(lines)"
   ]
  },
  {
   "cell_type": "code",
   "execution_count": 19,
   "metadata": {
    "collapsed": false,
    "deletable": true,
    "editable": true
   },
   "outputs": [],
   "source": [
    "conversations = []\n",
    "with open(os.path.join(corpusDir, 'movie_conversations.txt'), 'r', encoding='iso-8859-1') as f:\n",
    "    for line in f:\n",
    "        #print(line)\n",
    "        fields = line.split(' +++$+++ ')\n",
    "        #print(fields)\n",
    "        obj = {}\n",
    "        obj['character1ID'] = fields[0]\n",
    "        obj['character2ID'] = fields[1]\n",
    "        obj['movieID'] = fields[2]\n",
    "        #obj['lineIDs'] = fields[3]\n",
    "        #print(obj)\n",
    "        lineIDs = ast.literal_eval(fields[3])\n",
    "        #print(lineIDs)\n",
    "        obj['lineIDs'] = lineIDs\n",
    "        #print(obj)\n",
    "        obj['lines'] = []\n",
    "        for lineID in lineIDs:\n",
    "            #print(lineID, \"--\", lines[lineID])\n",
    "            obj['lines'].append(lines[lineID])\n",
    "        conversations.append(obj)\n",
    "#print(conversations)"
   ]
  },
  {
   "cell_type": "code",
   "execution_count": 21,
   "metadata": {
    "collapsed": true,
    "deletable": true,
    "editable": true
   },
   "outputs": [],
   "source": [
    "wordIDMap = {}\n",
    "IDWordMap = {}\n",
    "unknownToken = -1\n",
    "trainingSamples = []"
   ]
  },
  {
   "cell_type": "code",
   "execution_count": 20,
   "metadata": {
    "collapsed": true,
    "deletable": true,
    "editable": true
   },
   "outputs": [],
   "source": [
    "def getWordID(word, shouldAddToDict=True):\n",
    "    word = word.lower()\n",
    "    wordID = wordIDMap.get(word, -1)\n",
    "    if wordID == -1:\n",
    "        if shouldAddToDict:\n",
    "            wordID = len(wordIDMap)\n",
    "            wordIDMap[word] = wordID\n",
    "            IDWordMap[wordID] = word\n",
    "        else:\n",
    "            wordID = unknownToken\n",
    "    return wordID"
   ]
  },
  {
   "cell_type": "code",
   "execution_count": 26,
   "metadata": {
    "collapsed": false,
    "deletable": true,
    "editable": true
   },
   "outputs": [],
   "source": [
    "for conversation in conversations:\n",
    "    #print(conversation)\n",
    "    for i in range(len(conversation['lines']) - 1):\n",
    "        #print(conversation['lines'][i])\n",
    "        inputStatement = conversation['lines'][i]\n",
    "        #print(inputStatement)\n",
    "        replyStatement = conversation['lines'][i + 1]\n",
    "        inputWords = getWordsFromLine(inputStatement['text'])\n",
    "        replyWords = getWordsFromLine(replyStatement['text'], True)\n",
    "        #print(inputWords)\n",
    "        #print(replyWords)\n",
    "        \n",
    "        if inputWords and replyWords:\n",
    "            trainingSamples.append([inputWords, replyWords])\n",
    "#print(trainingSamples)"
   ]
  },
  {
   "cell_type": "code",
   "execution_count": 23,
   "metadata": {
    "collapsed": true,
    "deletable": true,
    "editable": true
   },
   "outputs": [],
   "source": [
    "sentMaxLength = 10 #maximum length of an input or output sentence\n",
    "def getWordsFromLine(line, isReply=False):\n",
    "    '''Returns the word IDs from the vovabulary'''\n",
    "    words = []\n",
    "    sentences = nltk.sent_tokenize(line)\n",
    "    #print(sentences)\n",
    "    # Since we are limited by a maxmimum length of sentences, we keep the last lines if the statement is a question/input\n",
    "    # and the first few lines if the statement is an answer/reply\n",
    "    for i in range(len(sentences)):\n",
    "        if not isReply:\n",
    "            i = len(sentences) - 1 - i\n",
    "        tokensFromCurrSent = nltk.word_tokenize(sentences[i])\n",
    "        #print(tokensFromCurrSent)\n",
    "        if len(words) + len(tokensFromCurrSent) > sentMaxLength:\n",
    "            break\n",
    "        else:\n",
    "            temp = []\n",
    "            for token in tokensFromCurrSent:\n",
    "                temp.append(getWordID(token))\n",
    "            if isReply:\n",
    "                words = words + temp\n",
    "            else:\n",
    "                words = temp + words # Append in the reverse order because we're considering the last few lines\n",
    "    return words"
   ]
  },
  {
   "cell_type": "code",
   "execution_count": 29,
   "metadata": {
    "collapsed": false
   },
   "outputs": [
    {
     "name": "stdout",
     "output_type": "stream",
     "text": [
      "Saving dataset samples ...\n",
      "Done\n"
     ]
    }
   ],
   "source": [
    "print(\"Saving dataset samples ...\")\n",
    "with open(os.path.join(cwd, 'data/samples', 'sampleData.pkl'), 'wb') as f:\n",
    "    data = {\n",
    "        'wordIDMap': wordIDMap,\n",
    "        'IDWordMap': IDWordMap,\n",
    "        'trainingSamples': trainingSamples\n",
    "    }\n",
    "    pickle.dump(data, f, -1)\n",
    "print('Done')"
   ]
  }
 ],
 "metadata": {
  "kernelspec": {
   "display_name": "Python 3",
   "language": "python",
   "name": "python3"
  },
  "language_info": {
   "codemirror_mode": {
    "name": "ipython",
    "version": 3
   },
   "file_extension": ".py",
   "mimetype": "text/x-python",
   "name": "python",
   "nbconvert_exporter": "python",
   "pygments_lexer": "ipython3",
   "version": "3.5.2"
  }
 },
 "nbformat": 4,
 "nbformat_minor": 2
}
